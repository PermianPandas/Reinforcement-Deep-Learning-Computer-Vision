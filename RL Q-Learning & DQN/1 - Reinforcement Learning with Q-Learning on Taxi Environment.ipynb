{
 "cells": [
  {
   "cell_type": "markdown",
   "metadata": {
    "id": "oIOzmjhqAxmP"
   },
   "source": [
    "# Design a self-driving car using Reinforcement Learning using Gym Environment\n"
   ]
  },
  {
   "cell_type": "markdown",
   "metadata": {
    "id": "3Sjui72ctAvs"
   },
   "source": [
    "# Taxi-v3\n",
    "```\n",
    "+---------+\n",
    "|R: | : :G|\n",
    "| : | : : |\n",
    "| : : : : |\n",
    "| | : | : |\n",
    "|Y| : |B: |\n",
    "+---------+\n",
    "```\n",
    "\n",
    "#### Reinforcement Learning\n",
    "<img src=\"https://miro.medium.com/max/1348/0*6yvI8Ul2ETKO-Ils.png\">\n",
    "<img src=\"https://www.learndatasci.com/documents/14/Reinforcement-Learning-Animation.gif\">\n",
    "\n",
    "#### Description: \n",
    "There are four designated locations in the grid world indicated by R(ed), G(reen), Y(ellow), and B(lue). When the episode starts, the taxi starts off at a random square and the passenger is at a random location. The taxi drives to the passenger's location, picks up the passenger, drives to the passenger's destination (another one of the four specified locations), and then drops off the passenger. Once the passenger is dropped off, the episode ends.\n",
    "\n",
    "#### Observations:\n",
    "There are 500 discrete states since there are 25 taxi positions, 5 possible locations of the passenger (including the case when the passenger is in the taxi), and 4 destination locations.\n",
    "\n",
    "#### Passenger locations:\n",
    "- 0: R(ed)\n",
    "- 1: G(reen)\n",
    "- 2: Y(ellow)\n",
    "- 3: B(lue)\n",
    "- 4: in taxi\n",
    "\n",
    "#### Destinations:\n",
    "- 0: R(ed)\n",
    "- 1: G(reen)\n",
    "- 2: Y(ellow)\n",
    "- 3: B(lue)\n",
    "\n",
    "#### Actions:\n",
    "There are 6 discrete deterministic actions:\n",
    "- 0: move south\n",
    "- 1: move north\n",
    "- 2: move east \n",
    "- 3: move west \n",
    "- 4: pickup passenger\n",
    "- 5: dropoff passenger\n",
    "\n",
    "#### Rewards:\n",
    "There is a reward of -1 for each action and an additional reward of +20 for delivering the passenger. There is a reward of -10 for executing actions \"pickup\" and \"dropoff\" illegally.\n",
    "\n",
    "#### Rendering:\n",
    "- blue: passenger\n",
    "- magenta: destination\n",
    "- yellow: empty taxi\n",
    "- green: full taxi\n",
    "- other letters (R, G, Y and B): locations for passengers and destinations\n",
    "\n",
    "<img src=\"https://storage.googleapis.com/lds-media/images/Reinforcement_Learning_Taxi_Env.width-1200.png\">\n",
    "\n",
    "\n",
    "                           \n"
   ]
  },
  {
   "cell_type": "markdown",
   "metadata": {
    "id": "eGWXK6VKX0dx"
   },
   "source": [
    "### NOTE:\n",
    "We have used google colab to impliment, train and test the self driving car. Google colab already contains the gym interface so you can skip step:0 and move on to step:1 if you are using google colab"
   ]
  },
  {
   "cell_type": "markdown",
   "metadata": {
    "id": "XX7M5QB0Xelz"
   },
   "source": [
    "# Step:0 Installing the gym interface\n",
    "\n"
   ]
  },
  {
   "cell_type": "code",
   "execution_count": 1,
   "metadata": {
    "colab": {
     "base_uri": "https://localhost:8080/"
    },
    "id": "_dSHlI33Xv9F",
    "outputId": "246eeecb-0e1a-4e07-f26d-7cfb973ec628"
   },
   "outputs": [
    {
     "name": "stdout",
     "output_type": "stream",
     "text": [
      "Requirement already satisfied: cmake in /usr/local/lib/python3.7/dist-packages (3.12.0)\n",
      "Requirement already satisfied: gym[atari] in /usr/local/lib/python3.7/dist-packages (0.17.3)\n",
      "Requirement already satisfied: scipy in /usr/local/lib/python3.7/dist-packages (1.4.1)\n",
      "Requirement already satisfied: numpy>=1.13.3 in /usr/local/lib/python3.7/dist-packages (from scipy) (1.19.5)\n",
      "Requirement already satisfied: cloudpickle<1.7.0,>=1.2.0 in /usr/local/lib/python3.7/dist-packages (from gym[atari]) (1.3.0)\n",
      "Requirement already satisfied: pyglet<=1.5.0,>=1.4.0 in /usr/local/lib/python3.7/dist-packages (from gym[atari]) (1.5.0)\n",
      "Requirement already satisfied: opencv-python in /usr/local/lib/python3.7/dist-packages (from gym[atari]) (4.1.2.30)\n",
      "Requirement already satisfied: Pillow in /usr/local/lib/python3.7/dist-packages (from gym[atari]) (7.1.2)\n",
      "Requirement already satisfied: atari-py~=0.2.0 in /usr/local/lib/python3.7/dist-packages (from gym[atari]) (0.2.9)\n",
      "Requirement already satisfied: six in /usr/local/lib/python3.7/dist-packages (from atari-py~=0.2.0->gym[atari]) (1.15.0)\n",
      "Requirement already satisfied: future in /usr/local/lib/python3.7/dist-packages (from pyglet<=1.5.0,>=1.4.0->gym[atari]) (0.16.0)\n"
     ]
    }
   ],
   "source": [
    "!pip install cmake 'gym[atari]' scipy"
   ]
  },
  {
   "cell_type": "markdown",
   "metadata": {
    "id": "jdv43MCoPRj7"
   },
   "source": [
    "# Step:1 Import the Libraries\n",
    "First, We have to import some libraries, which will help us to create our agent."
   ]
  },
  {
   "cell_type": "code",
   "execution_count": 2,
   "metadata": {
    "id": "GShlwZvVPAUc"
   },
   "outputs": [],
   "source": [
    "import numpy as np          #Numpy is for our Qtable\n",
    "import gym                  #OpenAI gym is for our environment, i.e., our Taxi Environment\n",
    "import random               #Random is for generating random numbers"
   ]
  },
  {
   "cell_type": "markdown",
   "metadata": {
    "id": "TZTH8plLQpqy"
   },
   "source": [
    "# Step:2 Create the Enviornment\n",
    " \n",
    "\n",
    "*   We will use OpenAI Gym library to create our environment.\n",
    "*   It is composed of many environments that we can use to train our agent.\n",
    "*   We will be creating the Taxi environment.\n",
    "\n",
    "\n",
    "\n"
   ]
  },
  {
   "cell_type": "code",
   "execution_count": 3,
   "metadata": {
    "colab": {
     "base_uri": "https://localhost:8080/"
    },
    "id": "T4rY2HVqQkEv",
    "outputId": "1ab9d571-260e-44ca-ba92-dccde045f9b5"
   },
   "outputs": [
    {
     "name": "stdout",
     "output_type": "stream",
     "text": [
      "+---------+\n",
      "|R: | : :\u001b[35mG\u001b[0m|\n",
      "| : | :\u001b[43m \u001b[0m: |\n",
      "| : : : : |\n",
      "| | : | : |\n",
      "|Y| : |\u001b[34;1mB\u001b[0m: |\n",
      "+---------+\n",
      "\n"
     ]
    }
   ],
   "source": [
    "env = gym.make(\"Taxi-v3\")\n",
    "env.render()"
   ]
  },
  {
   "cell_type": "markdown",
   "metadata": {
    "id": "v4UTaClIYj4Y"
   },
   "source": [
    "# Step:3 Initialize the Hyperparameters"
   ]
  },
  {
   "cell_type": "code",
   "execution_count": 4,
   "metadata": {
    "id": "Ll-OJ802YyUU"
   },
   "outputs": [],
   "source": [
    "total_episodes = 5000          #Total episodes we will use to train our algorithm\n",
    "total_test_episodes = 100       #Number of episodes we will use to test our algorithm\n",
    "max_steps = 99                  #Maximum steps an agent can take during an episode\n",
    "\n",
    "learning_rate = 0.7             #Learning rate\n",
    "gamma = 0.6                     #Discount rate\n",
    "\n",
    "#Exploration Parameters\n",
    "epsilon = 1.0                   #Exploration rate\n",
    "max_epsilon = 1.0               #Exploration probability at start(Max value the epsilon can have)\n",
    "min_epsilon = 0.01              #Minimum exploration probability(min value the epsilon can have)\n",
    "decay_rate = 0.01               #Exponential decay rate for exploration probability"
   ]
  },
  {
   "cell_type": "markdown",
   "metadata": {
    "id": "s_hcA2UCSfYy"
   },
   "source": [
    "# Solving the enviornment without Reinforcement Learning"
   ]
  },
  {
   "cell_type": "code",
   "execution_count": 5,
   "metadata": {
    "id": "k_Qra2wUQU3c"
   },
   "outputs": [],
   "source": [
    "env.reset()\n",
    "total_epochs = []\n",
    "total_penalties = []\n",
    "total_reward = []\n",
    "frames = []\n",
    "\n",
    "for episode in range(total_test_episodes):\n",
    "    state = env.reset()\n",
    "    step = 0\n",
    "    done = False\n",
    "    epochs, penalties, reward = 0,0,0\n",
    "\n",
    "    while not done:\n",
    "        #env.render()\n",
    "        action = env.action_space.sample()\n",
    "\n",
    "        new_state, reward, done, info = env.step(action)\n",
    "\n",
    "        if reward == -10:\n",
    "            penalties += 1\n",
    "\n",
    "        epochs += 1\n",
    "\n",
    "        total_reward.append(reward)\n",
    "\n",
    "        frames.append({'episode': episode, 'frames': env.render(mode='ansi'), 'state': state, 'action': action, 'reward': reward})\n",
    "\n",
    "        state = new_state\n",
    "    total_penalties.append(penalties)\n",
    "    total_epochs.append(epochs)"
   ]
  },
  {
   "cell_type": "markdown",
   "metadata": {
    "id": "8QlaIVEgY7Ak"
   },
   "source": [
    "# Visualizing the performance "
   ]
  },
  {
   "cell_type": "code",
   "execution_count": 6,
   "metadata": {
    "colab": {
     "base_uri": "https://localhost:8080/"
    },
    "id": "iAyUG9wwZC0H",
    "outputId": "f8f139c6-ad5d-4a6a-ad08-a709b8dd1704"
   },
   "outputs": [
    {
     "name": "stdout",
     "output_type": "stream",
     "text": [
      "Episode: 0\n",
      "+---------+\n",
      "|R: | : :G|\n",
      "| : | : : |\n",
      "| : : : : |\n",
      "| | :\u001b[43m \u001b[0m| : |\n",
      "|\u001b[34;1mY\u001b[0m| : |\u001b[35mB\u001b[0m: |\n",
      "+---------+\n",
      "  (Pickup)\n",
      "\n",
      "Timestep: 100\n",
      "State: 351\n",
      "Action: 4\n",
      "Reward: -10\n"
     ]
    }
   ],
   "source": [
    "from IPython.display import clear_output\n",
    "from time import sleep\n",
    "\n",
    "def print_frames(frames):\n",
    "    for i, frame in enumerate(frames):\n",
    "        clear_output(wait=True)\n",
    "        \n",
    "        if i == 100:\n",
    "            break\n",
    "\n",
    "        print(f\"Episode: {frame['episode']}\")\n",
    "        print(frame['frames'])\n",
    "        print(f\"Timestep: {i + 1}\")\n",
    "        print(f\"State: {frame['state']}\")\n",
    "        print(f\"Action: {frame['action']}\")\n",
    "        print(f\"Reward: {frame['reward']}\")\n",
    "        sleep(.6)\n",
    "        \n",
    "        \n",
    "        \n",
    "print_frames(frames)"
   ]
  },
  {
   "cell_type": "code",
   "execution_count": 7,
   "metadata": {
    "colab": {
     "base_uri": "https://localhost:8080/"
    },
    "id": "AYvcqwdHR4TF",
    "outputId": "336b8e1f-caf3-4b12-fe5f-7725693f0cc0"
   },
   "outputs": [
    {
     "name": "stdout",
     "output_type": "stream",
     "text": [
      "Results after 100 episodes:\n",
      "Average timesteps per episode: 199.68\n",
      "Average reward per timesteps: -3.896183894230769\n",
      "Average penalties per episode: 64.28\n"
     ]
    }
   ],
   "source": [
    "print(f\"Results after {total_test_episodes} episodes:\")\n",
    "print(f\"Average timesteps per episode: {sum(total_epochs)/ total_test_episodes}\")\n",
    "print(f\"Average reward per timesteps: {sum(total_reward) / sum(total_epochs)}\")\n",
    "print(f\"Average penalties per episode: {sum(total_penalties) / total_test_episodes}\")"
   ]
  },
  {
   "cell_type": "code",
   "execution_count": 8,
   "metadata": {
    "id": "4cDrjqxoS4wV"
   },
   "outputs": [],
   "source": [
    "avg_ts_nrl = sum(total_epochs)/ total_test_episodes\n",
    "avg_reward_nrl = sum(total_reward) / sum(total_epochs)\n",
    "avg_penalties_nrl = sum(total_penalties) / total_test_episodes"
   ]
  },
  {
   "cell_type": "markdown",
   "metadata": {
    "id": "5DJvnctXSob2"
   },
   "source": [
    "# Solving the environment with Reinforcement Learning"
   ]
  },
  {
   "cell_type": "markdown",
   "metadata": {
    "id": "XdBSZx2MR3rB"
   },
   "source": [
    "# Step:4 Create the Q-Table\n",
    "*  To create our Qtable, we need to know how rows and columns we need, i.e., our states and actions. We have to calculate the action_size and state_size.\n",
    "*  OpenAI Gym has a way to do that."
   ]
  },
  {
   "cell_type": "code",
   "execution_count": 9,
   "metadata": {
    "colab": {
     "base_uri": "https://localhost:8080/"
    },
    "id": "5Lk3ftXTViG4",
    "outputId": "c6191077-f7a8-466b-9b57-a640653d7598"
   },
   "outputs": [
    {
     "name": "stdout",
     "output_type": "stream",
     "text": [
      "Action Size =  6\n",
      "State Size =  500\n"
     ]
    }
   ],
   "source": [
    "action_size = env.action_space.n        #returns how much actions our environment has\n",
    "print(\"Action Size = \", action_size)\n",
    "\n",
    "state_size = env.observation_space.n    #returns how much sate our environment has\n",
    "print(\"State Size = \", state_size)"
   ]
  },
  {
   "cell_type": "code",
   "execution_count": 10,
   "metadata": {
    "colab": {
     "base_uri": "https://localhost:8080/"
    },
    "id": "6SpqRuGdWBmR",
    "outputId": "f6dd2c42-5c4b-42ee-eb5b-8ed5ebdd0b5c"
   },
   "outputs": [
    {
     "name": "stdout",
     "output_type": "stream",
     "text": [
      "[[0. 0. 0. 0. 0. 0.]\n",
      " [0. 0. 0. 0. 0. 0.]\n",
      " [0. 0. 0. 0. 0. 0.]\n",
      " ...\n",
      " [0. 0. 0. 0. 0. 0.]\n",
      " [0. 0. 0. 0. 0. 0.]\n",
      " [0. 0. 0. 0. 0. 0.]]\n"
     ]
    }
   ],
   "source": [
    "qtable = np.zeros((state_size,action_size))     #Initializing our Qtable as a null matrix\n",
    "print(qtable)"
   ]
  },
  {
   "cell_type": "markdown",
   "metadata": {
    "id": "Wha4gllHa2dD"
   },
   "source": [
    "# Step:5 Implement the Q learning algorithm\n",
    " **Q(s,a) ← Q(s,a) + α * [r + γ * maxa'Q(s',a') - Q(s,a)]**\n",
    "\n",
    "*  α - Learning Rate\n",
    "*  γ - Discout Rate\n",
    "\n",
    "Breaking it down into steps, we get\n",
    "\n",
    "*   Start exploring actions: For each state, select any one among all possible actions for the current state (s).\n",
    "*   Travel to the next state (s') as a result of that action (a).\n",
    "*   For all possible actions from the state (s') select the one with the highest Q-value.\n",
    "*   Update Q-table values using the equation.\n",
    "*   Set the next state as the current state.\n",
    "*   If goal state is reached, then end and repeat the process.\n",
    "\n",
    "\n",
    "\n",
    "\n",
    "\n",
    "\n"
   ]
  },
  {
   "cell_type": "code",
   "execution_count": 11,
   "metadata": {
    "id": "_wFHBqBNa8DX"
   },
   "outputs": [],
   "source": [
    "for episode in range(total_episodes):\n",
    "    #reset the environment\n",
    "    state = env.reset()\n",
    "    step = 0\n",
    "    done = False\n",
    "\n",
    "    for step in range(max_steps):\n",
    "        #choose an action a in the current state\n",
    "        #we first randomize a number\n",
    "        exp_exp_tradeoff = random.uniform(0,1)\n",
    "\n",
    "        #If this number is greater than epsilon, then we are in situation of exploitation (taking the biggest Q value for this state)\n",
    "        if exp_exp_tradeoff > epsilon:\n",
    "            action = np.argmax(qtable[state,:])\n",
    "\n",
    "        #else we will do a random choice, i.e., exploration\n",
    "        else:\n",
    "            action = env.action_space.sample()\n",
    "\n",
    "        #Now we are taking the action(a) and moving to the state(s') and getting the reward(r)\n",
    "        new_state, reward, done, info = env.step(action)\n",
    "\n",
    "        #We update our Qtable using the Qlearning equation\n",
    "        qtable[state,action] = qtable[state,action] + learning_rate * (reward + gamma * (np.max(qtable[new_state, :])) - qtable[state,action])\n",
    "\n",
    "        #Updating our state\n",
    "        state = new_state\n",
    "\n",
    "        #if done, then finish the episode\n",
    "        if done == True:\n",
    "            break\n",
    "\n",
    "    #We reduce the epsilon (as we need less exploration)\n",
    "    epsilon = min_epsilon + (max_epsilon - min_epsilon) * np.exp(-decay_rate*episode)\n",
    "\n"
   ]
  },
  {
   "cell_type": "markdown",
   "metadata": {
    "id": "pJhPmqk3jveN"
   },
   "source": [
    "# Evaluate our agent\n",
    "\n",
    "*   After 5000 episodes, The training is finished and the updated Qtable has been genrated using Qlearning\n",
    "*   This Qtable will help our agent to take right action at any state to maximize the reward\n",
    "*  Now the next action is always selected using the best Qvalue\n",
    "\n"
   ]
  },
  {
   "cell_type": "code",
   "execution_count": 12,
   "metadata": {
    "id": "Lf1zqfl4lLxl"
   },
   "outputs": [],
   "source": [
    "env.reset()\n",
    "total_epochs = []\n",
    "total_penalties = []\n",
    "total_reward = []\n",
    "frames = []\n",
    "\n",
    "for episode in range(total_test_episodes):\n",
    "    state = env.reset()\n",
    "    step = 0\n",
    "    done = False\n",
    "    epochs, penalties, reward = 0,0,0\n",
    "\n",
    "    while not done:\n",
    "        #env.render()\n",
    "        action = np.argmax(qtable[state,:])\n",
    "\n",
    "        new_state, reward, done, info = env.step(action)\n",
    "\n",
    "        if reward == -10:\n",
    "            penalties += 1\n",
    "\n",
    "        epochs += 1\n",
    "\n",
    "        total_reward.append(reward)\n",
    "\n",
    "        frames.append({'episode': episode, 'frames': env.render(mode='ansi'), 'state': state, 'action': action, 'reward': reward})\n",
    "\n",
    "        state = new_state\n",
    "    total_penalties.append(penalties)\n",
    "    total_epochs.append(epochs)"
   ]
  },
  {
   "cell_type": "markdown",
   "metadata": {
    "id": "dDRZzu-pZGDc"
   },
   "source": [
    "# Visualizing the performance"
   ]
  },
  {
   "cell_type": "code",
   "execution_count": 13,
   "metadata": {
    "colab": {
     "base_uri": "https://localhost:8080/"
    },
    "id": "AymNI4W9D9dT",
    "outputId": "881e295d-e608-4c6a-ed00-2f0dbf0d30e0"
   },
   "outputs": [
    {
     "name": "stdout",
     "output_type": "stream",
     "text": [
      "Episode: 9\n",
      "+---------+\n",
      "|R: | : :\u001b[35m\u001b[34;1m\u001b[43mG\u001b[0m\u001b[0m\u001b[0m|\n",
      "| : | : : |\n",
      "| : : : : |\n",
      "| | : | : |\n",
      "|Y| : |B: |\n",
      "+---------+\n",
      "  (Dropoff)\n",
      "\n",
      "Timestep: 136\n",
      "State: 97\n",
      "Action: 5\n",
      "Reward: 20\n"
     ]
    }
   ],
   "source": [
    "from IPython.display import clear_output\n",
    "from time import sleep\n",
    "\n",
    "def print_frames(frames):\n",
    "    for i, frame in enumerate(frames):\n",
    "        clear_output(wait=True)\n",
    "        \n",
    "        if frame['episode'] == 10:\n",
    "            break\n",
    "\n",
    "        print(f\"Episode: {frame['episode']}\")\n",
    "        print(frame['frames'])\n",
    "        print(f\"Timestep: {i + 1}\")\n",
    "        print(f\"State: {frame['state']}\")\n",
    "        print(f\"Action: {frame['action']}\")\n",
    "        print(f\"Reward: {frame['reward']}\")\n",
    "        sleep(.6)\n",
    "        \n",
    "        \n",
    "        \n",
    "print_frames(frames)"
   ]
  },
  {
   "cell_type": "code",
   "execution_count": 14,
   "metadata": {
    "colab": {
     "base_uri": "https://localhost:8080/"
    },
    "id": "3nHhJQnzqYXO",
    "outputId": "19fb103e-df01-4bf3-e147-f90f9eab8252"
   },
   "outputs": [
    {
     "name": "stdout",
     "output_type": "stream",
     "text": [
      "Results after 100 episodes:\n",
      "Average timesteps per episode: 12.94\n",
      "Average reward per timestep: 0.6228748068006182\n",
      "Average penalties per episode: 0.0\n"
     ]
    }
   ],
   "source": [
    "print(f\"Results after {total_test_episodes} episodes:\")\n",
    "print(f\"Average timesteps per episode: {sum(total_epochs)/ total_test_episodes}\")\n",
    "print(f\"Average reward per timestep: {sum(total_reward) / sum(total_epochs)}\")\n",
    "print(f\"Average penalties per episode: {sum(total_penalties) / total_test_episodes}\")"
   ]
  },
  {
   "cell_type": "code",
   "execution_count": 15,
   "metadata": {
    "id": "32pLfC7yT3f1"
   },
   "outputs": [],
   "source": [
    "avg_ts_rl = sum(total_epochs)/ total_test_episodes\n",
    "avg_reward_rl = sum(total_reward) / sum(total_epochs)\n",
    "avg_penalties_rl = sum(total_penalties) / total_test_episodes"
   ]
  },
  {
   "cell_type": "code",
   "execution_count": 16,
   "metadata": {
    "id": "bFozWi23VDvS"
   },
   "outputs": [],
   "source": [
    "import pandas as pd\n",
    "import seaborn as sns\n",
    "import matplotlib.pyplot as plt "
   ]
  },
  {
   "cell_type": "code",
   "execution_count": 17,
   "metadata": {
    "id": "6QMWQVpSURmJ"
   },
   "outputs": [],
   "source": [
    "models = [(\"Random agent's performance\", avg_reward_nrl, avg_penalties_nrl, avg_ts_nrl),(\"Q-learning agent's performance\", avg_reward_rl, avg_penalties_rl, avg_ts_rl)]"
   ]
  },
  {
   "cell_type": "code",
   "execution_count": 18,
   "metadata": {
    "id": "jpnT25-LUsLt"
   },
   "outputs": [],
   "source": [
    "Algorithms = pd.DataFrame(data = models, columns=['Model', \"Average rewards per move\", \"Average number of penalties per episode\", \"Average number of timesteps per trip\"])"
   ]
  },
  {
   "cell_type": "code",
   "execution_count": 19,
   "metadata": {
    "colab": {
     "base_uri": "https://localhost:8080/",
     "height": 145
    },
    "id": "-uLmmoHrVHcQ",
    "outputId": "49b1fc36-26b6-4d21-b2b7-cdda5ba76a35"
   },
   "outputs": [
    {
     "data": {
      "text/html": [
       "<div>\n",
       "<style scoped>\n",
       "    .dataframe tbody tr th:only-of-type {\n",
       "        vertical-align: middle;\n",
       "    }\n",
       "\n",
       "    .dataframe tbody tr th {\n",
       "        vertical-align: top;\n",
       "    }\n",
       "\n",
       "    .dataframe thead th {\n",
       "        text-align: right;\n",
       "    }\n",
       "</style>\n",
       "<table border=\"1\" class=\"dataframe\">\n",
       "  <thead>\n",
       "    <tr style=\"text-align: right;\">\n",
       "      <th></th>\n",
       "      <th>Model</th>\n",
       "      <th>Average rewards per move</th>\n",
       "      <th>Average number of penalties per episode</th>\n",
       "      <th>Average number of timesteps per trip</th>\n",
       "    </tr>\n",
       "  </thead>\n",
       "  <tbody>\n",
       "    <tr>\n",
       "      <th>0</th>\n",
       "      <td>Random agent's performance</td>\n",
       "      <td>-3.896184</td>\n",
       "      <td>64.28</td>\n",
       "      <td>199.68</td>\n",
       "    </tr>\n",
       "    <tr>\n",
       "      <th>1</th>\n",
       "      <td>Q-learning agent's performance</td>\n",
       "      <td>0.622875</td>\n",
       "      <td>0.00</td>\n",
       "      <td>12.94</td>\n",
       "    </tr>\n",
       "  </tbody>\n",
       "</table>\n",
       "</div>"
      ],
      "text/plain": [
       "                            Model  ...  Average number of timesteps per trip\n",
       "0      Random agent's performance  ...                                199.68\n",
       "1  Q-learning agent's performance  ...                                 12.94\n",
       "\n",
       "[2 rows x 4 columns]"
      ]
     },
     "execution_count": 19,
     "metadata": {},
     "output_type": "execute_result"
    }
   ],
   "source": [
    "Algorithms"
   ]
  },
  {
   "cell_type": "code",
   "execution_count": 20,
   "metadata": {
    "colab": {
     "base_uri": "https://localhost:8080/",
     "height": 497
    },
    "id": "sTpTVg9kZO9b",
    "outputId": "f2b57acf-5bed-4bc1-9f9a-f8d06b3ad3e4"
   },
   "outputs": [
    {
     "data": {
      "image/png": "[encoded data removed]",
      "text/plain": [
       "<Figure size 720x576 with 1 Axes>"
      ]
     },
     "metadata": {
      "needs_background": "light"
     },
     "output_type": "display_data"
    }
   ],
   "source": [
    "plt.figure(figsize=(10,8))\n",
    "\n",
    "sns.barplot(x = 'Model', y = 'Average rewards per move', data = Algorithms)\n",
    "plt.show()"
   ]
  },
  {
   "cell_type": "code",
   "execution_count": 21,
   "metadata": {
    "colab": {
     "base_uri": "https://localhost:8080/",
     "height": 497
    },
    "id": "-yFEcnQ7f5qt",
    "outputId": "d8081600-16ea-4c2c-9059-2cf59c6b5292"
   },
   "outputs": [
    {
     "data": {
      "image/png": "[encoded data removed]",
      "text/plain": [
       "<Figure size 720x576 with 1 Axes>"
      ]
     },
     "metadata": {
      "needs_background": "light"
     },
     "output_type": "display_data"
    }
   ],
   "source": [
    "plt.figure(figsize=(10,8))\n",
    "\n",
    "sns.barplot(x = 'Model', y = 'Average number of penalties per episode', data = Algorithms)\n",
    "plt.show()"
   ]
  },
  {
   "cell_type": "code",
   "execution_count": 22,
   "metadata": {
    "colab": {
     "base_uri": "https://localhost:8080/",
     "height": 497
    },
    "id": "Thi0XsWSf5f6",
    "outputId": "79daf867-f7e6-4538-e2e8-e402634e7f75"
   },
   "outputs": [
    {
     "data": {
      "image/png": "[encoded data removed]",
      "text/plain": [
       "<Figure size 720x576 with 1 Axes>"
      ]
     },
     "metadata": {
      "needs_background": "light"
     },
     "output_type": "display_data"
    }
   ],
   "source": [
    "plt.figure(figsize=(10,8))\n",
    "\n",
    "sns.barplot(x = 'Model', y = 'Average number of timesteps per trip', data = Algorithms)\n",
    "plt.show()"
   ]
  }
 ],
 "metadata": {
  "colab": {
   "collapsed_sections": [],
   "name": "1 - Reinforcement Learning with Q-Learning on Taxi Environment.ipynb",
   "provenance": []
  },
  "kernelspec": {
   "display_name": "Python 3",
   "language": "python",
   "name": "python3"
  },
  "language_info": {
   "codemirror_mode": {
    "name": "ipython",
    "version": 3
   },
   "file_extension": ".py",
   "mimetype": "text/x-python",
   "name": "python",
   "nbconvert_exporter": "python",
   "pygments_lexer": "ipython3",
   "version": "3.8.8"
  }
 },
 "nbformat": 4,
 "nbformat_minor": 1
}
