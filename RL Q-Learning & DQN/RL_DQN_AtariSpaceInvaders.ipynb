{
 "cells": [
  {
   "cell_type": "markdown",
   "metadata": {
    "id": "qN59fBGu0B_h"
   },
   "source": [
    "## Installing Packages"
   ]
  },
  {
   "cell_type": "markdown",
   "metadata": {
    "id": "syeulfxE1H6B"
   },
   "source": [
    "CartPole-v0\n",
    "A non-actuated hinge that travels in a smooth orbit connects the rod to the carriage. The controlling mechanism is delivering a force of +1 or 1 to the cart. The pendulum begins upright in order to prevent falls. Every time step in which the bar remains upright will result in a +1 reward. When the bar is more than 15 degrees from vertical or the cart is more than 2.4 units from the centre, the episode finishes."
   ]
  },
  {
   "cell_type": "markdown",
   "metadata": {
    "id": "2mAW_42K1qOW"
   },
   "source": [
    "GYM\n",
    "Gym is a Python library that allows you to create and compare reinforcement learning algorithms. It includes a common API for communication between learning algorithms and environments, as well as a variety of environments that are consistent with that API. Since its inception, Gym's API has become the industry standard for achieving this."
   ]
  },
  {
   "cell_type": "code",
   "execution_count": 9,
   "metadata": {
    "colab": {
     "base_uri": "https://localhost:8080/"
    },
    "id": "sYIng3wT0F1a",
    "outputId": "9a84ac22-95d8-40ff-bd0e-1d97a3dc2951"
   },
   "outputs": [
    {
     "name": "stdout",
     "output_type": "stream",
     "text": [
      "Reading package lists... Done\n",
      "Building dependency tree       \n",
      "Reading state information... Done\n",
      "xvfb is already the newest version (2:1.19.6-1ubuntu4.9).\n",
      "0 upgraded, 0 newly installed, 0 to remove and 37 not upgraded.\n",
      "Requirement already satisfied: pyvirtualdisplay in /usr/local/lib/python3.7/dist-packages (0.2.5)\n",
      "Requirement already satisfied: EasyProcess in /usr/local/lib/python3.7/dist-packages (from pyvirtualdisplay) (0.3)\n",
      "Requirement already satisfied: piglet in /usr/local/lib/python3.7/dist-packages (1.0.0)\n",
      "Requirement already satisfied: piglet-templates in /usr/local/lib/python3.7/dist-packages (from piglet) (1.2.0)\n",
      "Requirement already satisfied: pyparsing in /usr/local/lib/python3.7/dist-packages (from piglet-templates->piglet) (3.0.6)\n",
      "Requirement already satisfied: markupsafe in /usr/local/lib/python3.7/dist-packages (from piglet-templates->piglet) (2.0.1)\n",
      "Requirement already satisfied: astunparse in /usr/local/lib/python3.7/dist-packages (from piglet-templates->piglet) (1.6.3)\n",
      "Requirement already satisfied: attrs in /usr/local/lib/python3.7/dist-packages (from piglet-templates->piglet) (21.2.0)\n",
      "Requirement already satisfied: six<2.0,>=1.6.1 in /usr/local/lib/python3.7/dist-packages (from astunparse->piglet-templates->piglet) (1.15.0)\n",
      "Requirement already satisfied: wheel<1.0,>=0.23.0 in /usr/local/lib/python3.7/dist-packages (from astunparse->piglet-templates->piglet) (0.37.0)\n",
      "Requirement already satisfied: mitdeeplearning in /usr/local/lib/python3.7/dist-packages (0.2.0)\n",
      "Requirement already satisfied: gym in /usr/local/lib/python3.7/dist-packages (from mitdeeplearning) (0.17.3)\n",
      "Requirement already satisfied: regex in /usr/local/lib/python3.7/dist-packages (from mitdeeplearning) (2019.12.20)\n",
      "Requirement already satisfied: numpy in /usr/local/lib/python3.7/dist-packages (from mitdeeplearning) (1.19.5)\n",
      "Requirement already satisfied: tqdm in /usr/local/lib/python3.7/dist-packages (from mitdeeplearning) (4.62.3)\n",
      "Requirement already satisfied: pyglet<=1.5.0,>=1.4.0 in /usr/local/lib/python3.7/dist-packages (from gym->mitdeeplearning) (1.5.0)\n",
      "Requirement already satisfied: scipy in /usr/local/lib/python3.7/dist-packages (from gym->mitdeeplearning) (1.4.1)\n",
      "Requirement already satisfied: cloudpickle<1.7.0,>=1.2.0 in /usr/local/lib/python3.7/dist-packages (from gym->mitdeeplearning) (1.3.0)\n",
      "Requirement already satisfied: future in /usr/local/lib/python3.7/dist-packages (from pyglet<=1.5.0,>=1.4.0->gym->mitdeeplearning) (0.16.0)\n",
      "Reading package lists... Done\n",
      "Building dependency tree       \n",
      "Reading state information... Done\n",
      "swig is already the newest version (3.0.12-1).\n",
      "0 upgraded, 0 newly installed, 0 to remove and 37 not upgraded.\n",
      "Reading package lists... Done\n",
      "Building dependency tree       \n",
      "Reading state information... Done\n",
      "x11-utils is already the newest version (7.7+3build1).\n",
      "xvfb is already the newest version (2:1.19.6-1ubuntu4.9).\n",
      "0 upgraded, 0 newly installed, 0 to remove and 37 not upgraded.\n",
      "Requirement already satisfied: gym in /usr/local/lib/python3.7/dist-packages (0.17.3)\n",
      "Requirement already satisfied: scipy in /usr/local/lib/python3.7/dist-packages (from gym) (1.4.1)\n",
      "Requirement already satisfied: numpy>=1.10.4 in /usr/local/lib/python3.7/dist-packages (from gym) (1.19.5)\n",
      "Requirement already satisfied: cloudpickle<1.7.0,>=1.2.0 in /usr/local/lib/python3.7/dist-packages (from gym) (1.3.0)\n",
      "Requirement already satisfied: pyglet<=1.5.0,>=1.4.0 in /usr/local/lib/python3.7/dist-packages (from gym) (1.5.0)\n",
      "Requirement already satisfied: future in /usr/local/lib/python3.7/dist-packages (from pyglet<=1.5.0,>=1.4.0->gym) (0.16.0)\n",
      "Requirement already satisfied: mitdeeplearning in /usr/local/lib/python3.7/dist-packages (0.2.0)\n",
      "Requirement already satisfied: gym in /usr/local/lib/python3.7/dist-packages (from mitdeeplearning) (0.17.3)\n",
      "Requirement already satisfied: tqdm in /usr/local/lib/python3.7/dist-packages (from mitdeeplearning) (4.62.3)\n",
      "Requirement already satisfied: regex in /usr/local/lib/python3.7/dist-packages (from mitdeeplearning) (2019.12.20)\n",
      "Requirement already satisfied: numpy in /usr/local/lib/python3.7/dist-packages (from mitdeeplearning) (1.19.5)\n",
      "Requirement already satisfied: cloudpickle<1.7.0,>=1.2.0 in /usr/local/lib/python3.7/dist-packages (from gym->mitdeeplearning) (1.3.0)\n",
      "Requirement already satisfied: scipy in /usr/local/lib/python3.7/dist-packages (from gym->mitdeeplearning) (1.4.1)\n",
      "Requirement already satisfied: pyglet<=1.5.0,>=1.4.0 in /usr/local/lib/python3.7/dist-packages (from gym->mitdeeplearning) (1.5.0)\n",
      "Requirement already satisfied: future in /usr/local/lib/python3.7/dist-packages (from pyglet<=1.5.0,>=1.4.0->gym->mitdeeplearning) (0.16.0)\n"
     ]
    }
   ],
   "source": [
    "!apt install xvfb -y\n",
    "!pip install pyvirtualdisplay\n",
    "!pip install piglet\n",
    "!pip install mitdeeplearning\n",
    "\n",
    "# Installing dependencies for visualizing \n",
    "\n",
    "!apt-get install -y xvfb python-opengl x11-utils > /dev/null 2>&1\n",
    "!apt-get install swig\n",
    "!pip install gym pyvirtualdisplay scikit-video > /dev/null 2>&1\n",
    "\n",
    "# Installing system dependencies\n",
    "\n",
    "!apt-get install -y xvfb x11-utils\n",
    "\n",
    "# Installing python dependencies\n",
    "\n",
    "!pip install gym\n",
    "\n",
    "!pip install mitdeeplearning"
   ]
  },
  {
   "cell_type": "code",
   "execution_count": 10,
   "metadata": {
    "id": "fKF5Lzwk0N9E"
   },
   "outputs": [],
   "source": [
    "# Importing libraries \n",
    "\n",
    "from pyvirtualdisplay import Display\n",
    "display = Display(visible=0, size=(1400, 900))\n",
    "display.start()\n",
    "import pandas as pd\n",
    "import seaborn as sns\n",
    "from collections import deque\n",
    "from tensorflow.keras.layers import Dense, Input\n",
    "%tensorflow_version 2.x\n",
    "import tensorflow as tf\n",
    "\n",
    "import numpy as np           \n",
    "import gym                  \n",
    "import random               \n",
    "import base64, io, time\n",
    "import IPython, functools\n",
    "import matplotlib.pyplot as plt\n",
    "import time\n",
    "from tqdm import tqdm\n",
    "\n",
    "import copy\n",
    "import torch\n",
    "from torch.autograd import Variable\n",
    "\n",
    "import matplotlib.pyplot as plt\n",
    "from PIL import Image\n",
    "from IPython.display import clear_output\n",
    "import math\n",
    "import torchvision.transforms as T\n",
    "import mitdeeplearning as mdl"
   ]
  },
  {
   "cell_type": "code",
   "execution_count": 11,
   "metadata": {
    "id": "JbPC47idkjSx"
   },
   "outputs": [],
   "source": [
    "# Creating the gym environment\n",
    "\n",
    "env = gym.envs.make(\"CartPole-v0\")\n",
    "env.render()\n",
    "\n"
   ]
  },
  {
   "cell_type": "code",
   "execution_count": 12,
   "metadata": {
    "colab": {
     "base_uri": "https://localhost:8080/",
     "height": 286
    },
    "id": "wMH8gGTO2RAr",
    "outputId": "93e9a219-46d9-46e0-c30e-a24703aa6ed7"
   },
   "outputs": [
    {
     "data": {
      "image/png": "[encoded data removed]",
      "text/plain": [
       "<Figure size 432x288 with 1 Axes>"
      ]
     },
     "metadata": {},
     "output_type": "display_data"
    },
    {
     "name": "stdout",
     "output_type": "stream",
     "text": [
      "[ 0.00668553  0.21494034  0.02365323 -0.24320336]\n"
     ]
    }
   ],
   "source": [
    " # Gym Environment\n",
    "\n",
    "def show_plot():\n",
    "    show = env.render(mode='rgb_array').transpose((2, 0, 1))\n",
    "    show = np.ascontiguousarray(show, dtype=np.float32) / 255.\n",
    "    return torch.from_numpy(show)\n",
    "\n",
    "\n",
    "steps = 50\n",
    "\n",
    "\n",
    "for i in range(steps):\n",
    "    clear_output(wait=True)\n",
    "    env.reset()\n",
    "    o, r, d, i = env.step(env.action_space.sample())\n",
    "    plt.figure()\n",
    "    plt.imshow(show_plot().cpu().permute(1, 2, 0).numpy(),\n",
    "               interpolation='none')\n",
    "    plt.title('CartPole-v0')\n",
    "    plt.xticks([])\n",
    "    plt.yticks([])\n",
    "    plt.show()\n",
    "    print(o)"
   ]
  },
  {
   "cell_type": "code",
   "execution_count": 13,
   "metadata": {
    "id": "vnpTDEV_r_6N"
   },
   "outputs": [],
   "source": [
    "# Q Table/Q-Learning/ Initializing Hyperparameters\n",
    "\n",
    "total_episodes = 10000          \n",
    "total_test_episodes = 1000      \n",
    "max_steps = 99                  \n",
    "\n",
    "learning_rate = 0.7             # Learning rate\n",
    "gamma = 0.6                     # Discount rate\n",
    "\n",
    "#Exploration Parameters\n",
    "epsilon = 1.0                   # Exploration rate\n",
    "max_epsilon = 1.0               # Maximum exploration probability\n",
    "min_epsilon = 0.01              # Minimum exploration probability\n",
    "decay_rate = 0.01               # Exponential decay rate for exploration probability\n"
   ]
  },
  {
   "cell_type": "markdown",
   "metadata": {
    "id": "H9R9yJ31nF3Z"
   },
   "source": [
    "# Conclusion\n",
    "\n",
    "The fastest solution was achieved in 247 episodes with parameters gamma = 0.995 and learning rate = 0.15. The overall findings tend to be better with a higher gamma of around 0.995. Of course, the random distribution of values in the Q-table plays an important role in reaching a quick answer.\n",
    "The average reward across 1000 episodes provides a more accurate picture of performance. After 5000 episodes, the average payment was about 149, and after 10,000 episodes, the average score was approximately 168, which is considered a success.\n",
    "Overall, Q-learning is a good way of learning in simple environments with few steps, where the agent can recall and duplicate earlier actions. In increasingly complicated issues, the Q-table would be unable to manage a large number of states and operations, rendering it impractical to use."
   ]
  },
  {
   "cell_type": "code",
   "execution_count": 6,
   "metadata": {
    "id": "lVivpUXxun1q"
   },
   "outputs": [],
   "source": [
    "# Preprocessing \n",
    "\n",
    "env.reset()\n",
    "total_epochs = []\n",
    "total_penalties = []\n",
    "total_reward = []\n",
    "frames = []\n",
    "\n",
    "for episode in range(total_test_episodes):\n",
    "    state = env.reset()\n",
    "    step = 0\n",
    "    done = False\n",
    "    epochs, penalties, reward = 0,0,0\n",
    "\n",
    "    while not done:\n",
    "        #env.render()\n",
    "        action = env.action_space.sample()\n",
    "\n",
    "        new_state, reward, done, info = env.step(action)\n",
    "\n",
    "        if reward == -10:\n",
    "            penalties += 1\n",
    "\n",
    "        epochs += 1\n",
    "\n",
    "        total_reward.append(reward)\n",
    "\n",
    "        frames.append({'episode': episode, 'frames': env.render(mode='ansi'), 'state': state, 'action': action, 'reward': reward})\n",
    "\n",
    "        state = new_state\n",
    "    total_penalties.append(penalties)\n",
    "    total_epochs.append(epochs)"
   ]
  },
  {
   "cell_type": "code",
   "execution_count": 7,
   "metadata": {
    "colab": {
     "base_uri": "https://localhost:8080/"
    },
    "id": "_pN6Z-ePux90",
    "outputId": "2fd3582c-2f45-4eb2-e902-c39e62ce927b"
   },
   "outputs": [
    {
     "name": "stdout",
     "output_type": "stream",
     "text": [
      "Episode: 3\n",
      "True\n",
      "Timestep: 100\n",
      "State: [ 0.05655362  0.58029619 -0.06240084 -0.8647637 ]\n",
      "Action: 1\n",
      "Reward: 1.0\n"
     ]
    }
   ],
   "source": [
    "# Visualizing the performance \n",
    "\n",
    "from IPython.display import clear_output\n",
    "from time import sleep\n",
    "\n",
    "def print_frames(frames):\n",
    "    for i, frame in enumerate(frames):\n",
    "        clear_output(wait=True)\n",
    "        \n",
    "        if i == 100:\n",
    "            break\n",
    "\n",
    "        print(f\"Episode: {frame['episode']}\")\n",
    "        print(frame['frames'])\n",
    "        print(f\"Timestep: {i + 1}\")\n",
    "        print(f\"State: {frame['state']}\")\n",
    "        print(f\"Action: {frame['action']}\")\n",
    "        print(f\"Reward: {frame['reward']}\")\n",
    "        sleep(.6)\n",
    "        \n",
    "        \n",
    "        \n",
    "print_frames(frames)"
   ]
  },
  {
   "cell_type": "code",
   "execution_count": 8,
   "metadata": {
    "colab": {
     "base_uri": "https://localhost:8080/"
    },
    "id": "qj_e3jENzVJV",
    "outputId": "dcb20dd7-86e5-4339-a5c5-bc708f8991ee"
   },
   "outputs": [
    {
     "name": "stdout",
     "output_type": "stream",
     "text": [
      "Results after 1000 episodes:\n",
      "Average timesteps per episode: 22.234\n",
      "Average reward per timesteps: 1.0\n",
      "Average penalties per episode: 0.0\n"
     ]
    }
   ],
   "source": [
    "# Results\n",
    "\n",
    "print(f\"Results after {total_test_episodes} episodes:\")\n",
    "print(f\"Average timesteps per episode: {sum(total_epochs)/ total_test_episodes}\")\n",
    "print(f\"Average reward per timesteps: {sum(total_reward) / sum(total_epochs)}\")\n",
    "print(f\"Average penalties per episode: {sum(total_penalties) / total_test_episodes}\")"
   ]
  },
  {
   "cell_type": "code",
   "execution_count": 37,
   "metadata": {
    "id": "gumBR0X5wczM"
   },
   "outputs": [],
   "source": [
    "avg_ts_nrl = sum(total_epochs)/ total_episodes\n",
    "avg_reward_nrl = sum(total_reward) / sum(total_epochs)\n",
    "avg_penalties_nrl = sum(total_penalties) / total_test_episodes"
   ]
  },
  {
   "cell_type": "markdown",
   "metadata": {
    "id": "1oEh8ikbwiid"
   },
   "source": [
    " ## Solving the environment with Reinforcement Learning"
   ]
  },
  {
   "cell_type": "markdown",
   "metadata": {
    "id": "hgLAC__Vw9en"
   },
   "source": [
    " \n",
    "# Step:4 Create the Q-Table\n",
    "\n",
    "*  To create our Qtable, we need to know how rows and columns we need, i.e., our states and actions. We have to calculate the action_size and state_size.\n",
    "*  OpenAI Gym has a way to do that.\n",
    "\n"
   ]
  },
  {
   "cell_type": "code",
   "execution_count": 10,
   "metadata": {
    "colab": {
     "base_uri": "https://localhost:8080/"
    },
    "id": "4F9vM-wMxMWf",
    "outputId": "1667d7da-bfad-4bc7-eb5f-e0c0c9358156"
   },
   "outputs": [
    {
     "name": "stdout",
     "output_type": "stream",
     "text": [
      "Action Size =  2\n",
      "State Size =  4\n"
     ]
    }
   ],
   "source": [
    "# returns how much actions our environment has\n",
    "\n",
    "action_size = env.action_space.n        \n",
    "print(\"Action Size = \", action_size)\n",
    "\n",
    "#returns how much sate our environment has\n",
    "\n",
    "state_size = env.observation_space.shape[0]    \n",
    "print(\"State Size = \", state_size)"
   ]
  },
  {
   "cell_type": "code",
   "execution_count": 11,
   "metadata": {
    "colab": {
     "base_uri": "https://localhost:8080/"
    },
    "id": "IuZuLXjc0EAy",
    "outputId": "bcfa9c3d-ac29-4868-93f2-cc7fa1fca1d3"
   },
   "outputs": [
    {
     "name": "stdout",
     "output_type": "stream",
     "text": [
      "[[0. 0.]\n",
      " [0. 0.]\n",
      " [0. 0.]\n",
      " [0. 0.]]\n"
     ]
    }
   ],
   "source": [
    "#Initializing our Qtable as a null matrix\n",
    "\n",
    "qtable = np.zeros((state_size,action_size))     \n",
    "print(qtable)"
   ]
  },
  {
   "cell_type": "markdown",
   "metadata": {
    "id": "VtUAIN7o0ICG"
   },
   "source": [
    "#  Implementing Q-learning Algorithm"
   ]
  },
  {
   "cell_type": "code",
   "execution_count": 12,
   "metadata": {
    "colab": {
     "base_uri": "https://localhost:8080/"
    },
    "id": "sT-yWTvV0M49",
    "outputId": "01f25a54-fbac-4b3c-83a6-7e93ef5b457e"
   },
   "outputs": [
    {
     "name": "stderr",
     "output_type": "stream",
     "text": [
      "/usr/local/lib/python3.7/dist-packages/gym/logger.py:30: UserWarning: \u001b[33mWARN: You are calling 'step()' even though this environment has already returned done = True. You should always call 'reset()' once you receive 'done = True' -- any further steps are undefined behavior.\u001b[0m\n",
      "  warnings.warn(colorize('%s: %s'%('WARN', msg % args), 'yellow'))\n"
     ]
    },
    {
     "name": "stdout",
     "output_type": "stream",
     "text": [
      "Score over time: 4.515\n"
     ]
    }
   ],
   "source": [
    "# Reward List\n",
    "\n",
    "rewards = []\n",
    "\n",
    "\n",
    "for episode in range(total_episodes):\n",
    "    \n",
    "    # Resetting the environment\n",
    "    \n",
    "    state = env.reset()\n",
    "    step = 0\n",
    "    done = False\n",
    "    total_rewards = 0\n",
    "    \n",
    "    for step in range(max_steps):\n",
    "        \n",
    "        # Choosing an action (a) in the current world state (s)\n",
    "        \n",
    "        exp_exp_tradeoff = random.uniform(0, 1)\n",
    "        \n",
    "        ## If this number > greater than epsilon --> exploitation (taking the biggest Q value for this state)\n",
    "        \n",
    "        if exp_exp_tradeoff > epsilon:\n",
    "            action = np.argmax(qtable[state.astype(int),:])\n",
    "\n",
    "        # Else doing a random choice --> exploration\n",
    "        else:\n",
    "            action = env.action_space.sample()\n",
    "\n",
    "        # Take the action (a) and observe the outcome state(s') and reward (r)\n",
    "        \n",
    "        new_state, reward, done, info = env.step(action)\n",
    "\n",
    "        # Update Q(s,a):= Q(s,a) + lr [R(s,a) + gamma * max Q(s',a') - Q(s,a)]\n",
    "        \n",
    "        new_state, reward, done, info = env.step(action)\n",
    "\n",
    "        prev_q = qtable[state.astype(int),action]\n",
    "\n",
    "        prev_q  =  prev_q  + learning_rate * (reward + gamma * (np.max(qtable[new_state.astype(int), :])) -  prev_q )\n",
    "      \n",
    "        total_rewards += reward\n",
    "        \n",
    "        # Our new state is state\n",
    "        \n",
    "        state = new_state\n",
    "        \n",
    "        # If done (if we're dead) : finish episode\n",
    "        \n",
    "        if done == True: \n",
    "            break\n",
    "        \n",
    "    # Reducing epsilon,because we need less exploration\n",
    "    \n",
    "    epsilon = min_epsilon + (max_epsilon - min_epsilon) * np.exp(-decay_rate * episode) \n",
    "\n",
    "    rewards.append(total_rewards)\n",
    "\n",
    "print (\"Score over time: \" +  str(sum(rewards)/total_episodes))\n"
   ]
  },
  {
   "cell_type": "code",
   "execution_count": 13,
   "metadata": {
    "colab": {
     "base_uri": "https://localhost:8080/"
    },
    "id": "R3Ph-0B31Ean",
    "outputId": "a6866c75-eb30-4fb7-a4f1-7f7307d91798"
   },
   "outputs": [
    {
     "name": "stdout",
     "output_type": "stream",
     "text": [
      "EPISODE  0\n",
      "Number of steps 8\n",
      "EPISODE  1\n",
      "Number of steps 8\n",
      "EPISODE  2\n",
      "Number of steps 9\n",
      "EPISODE  3\n",
      "Number of steps 9\n",
      "EPISODE  4\n",
      "Number of steps 9\n"
     ]
    }
   ],
   "source": [
    "# Evaluating the agent\n",
    "\n",
    "for episode in range(5):\n",
    "    state = env.reset()\n",
    "    step = 0\n",
    "    done = False\n",
    "    print(\"EPISODE \", episode)\n",
    "\n",
    "    for step in range(max_steps):\n",
    "        \n",
    " # Taking the index that have the maximum expected future reward given that state\n",
    "\n",
    "        action = np.argmax(qtable[state.astype(int),:])\n",
    "        \n",
    "        new_state, reward, done, info = env.step(action)\n",
    "        \n",
    "        if done:\n",
    "            \n",
    "            # Here, we decide to only print the last state (to see if our agent is on the goal or fall into an hole)\n",
    "            \n",
    "            env.render()\n",
    "            \n",
    "            # We print the number of step it took.\n",
    "            \n",
    "            print(\"Number of steps\", step)\n",
    "            break\n",
    "        state = new_state\n",
    "env.close()"
   ]
  },
  {
   "cell_type": "code",
   "execution_count": 39,
   "metadata": {
    "colab": {
     "base_uri": "https://localhost:8080/"
    },
    "id": "d4H9773d3O7j",
    "outputId": "b91fec5c-0575-4b82-a5a1-0534ed57fd94"
   },
   "outputs": [
    {
     "name": "stdout",
     "output_type": "stream",
     "text": [
      "Episode: 4\n",
      "True\n",
      "Timestep: 124\n",
      "State: [ 0.08501469  1.1428951  -0.20388453 -2.00400319]\n",
      "Action: 1\n",
      "Reward: 1.0\n"
     ]
    }
   ],
   "source": [
    "# Frames \n",
    "\n",
    "from IPython.display import clear_output\n",
    "from time import sleep\n",
    "\n",
    "def print_frames(frames):\n",
    "    for i, frame in enumerate(frames):\n",
    "        clear_output(wait=True)\n",
    "        \n",
    "        if frame['episode'] == 5:\n",
    "            break\n",
    "\n",
    "        print(f\"Episode: {frame['episode']}\")\n",
    "        print(frame['frames'])\n",
    "        print(f\"Timestep: {i + 1}\")\n",
    "        print(f\"State: {frame['state']}\")\n",
    "        print(f\"Action: {frame['action']}\")\n",
    "        print(f\"Reward: {frame['reward']}\")\n",
    "        sleep(.6)\n",
    "        \n",
    "        \n",
    "        \n",
    "print_frames(frames)"
   ]
  },
  {
   "cell_type": "code",
   "execution_count": 40,
   "metadata": {
    "colab": {
     "base_uri": "https://localhost:8080/"
    },
    "id": "gaVgk_hT39fA",
    "outputId": "46570c6f-3363-472c-94af-08ec97f76d33"
   },
   "outputs": [
    {
     "name": "stdout",
     "output_type": "stream",
     "text": [
      "Results after 1000 episodes:\n",
      "Average timesteps per episode: 22.234\n",
      "Average reward per timestep: 1.0\n",
      "Average penalties per episode: 0.0\n"
     ]
    }
   ],
   "source": [
    "print(f\"Results after {total_test_episodes} episodes:\")\n",
    "print(f\"Average timesteps per episode: {sum(total_epochs)/ total_test_episodes}\")\n",
    "print(f\"Average reward per timestep: {sum(total_reward) / sum(total_epochs)}\")\n",
    "print(f\"Average penalties per episode: {sum(total_penalties) / total_test_episodes}\")"
   ]
  },
  {
   "cell_type": "code",
   "execution_count": 41,
   "metadata": {
    "id": "A40nWFqz4AUA"
   },
   "outputs": [],
   "source": [
    "avg_ts_rl = sum(total_epochs)/ total_test_episodes\n",
    "avg_reward_rl = sum(total_reward) / sum(total_epochs)\n",
    "avg_penalties_rl = sum(total_penalties) / total_test_episodes"
   ]
  },
  {
   "cell_type": "code",
   "execution_count": 17,
   "metadata": {
    "id": "L1NpDX8vC8Dk"
   },
   "outputs": [],
   "source": [
    "import pandas as pd\n",
    "import seaborn as sns\n",
    "import matplotlib.pyplot as plt "
   ]
  },
  {
   "cell_type": "code",
   "execution_count": 42,
   "metadata": {
    "id": "vCq0RXPg4KA2"
   },
   "outputs": [],
   "source": [
    "models = [(\"Random agent's performance\", avg_reward_nrl, avg_penalties_nrl, avg_ts_nrl),(\"Q-learning agent's performance\", avg_reward_rl, avg_penalties_rl, avg_ts_rl)]"
   ]
  },
  {
   "cell_type": "code",
   "execution_count": 43,
   "metadata": {
    "id": "_HpUK1KP4cqW"
   },
   "outputs": [],
   "source": [
    "Algorithms = pd.DataFrame(data = models, columns=['Model', \"Average rewards per move\", \"Average number of penalties per episode\", \"Average number of timesteps per trip\"])"
   ]
  },
  {
   "cell_type": "code",
   "execution_count": 48,
   "metadata": {
    "colab": {
     "base_uri": "https://localhost:8080/",
     "height": 112
    },
    "id": "z3p-7yyr4e0M",
    "outputId": "2a65478f-3cd9-44c1-cf0a-368c1ddf66e3"
   },
   "outputs": [
    {
     "data": {
      "text/html": [
       "<div>\n",
       "<style scoped>\n",
       "    .dataframe tbody tr th:only-of-type {\n",
       "        vertical-align: middle;\n",
       "    }\n",
       "\n",
       "    .dataframe tbody tr th {\n",
       "        vertical-align: top;\n",
       "    }\n",
       "\n",
       "    .dataframe thead th {\n",
       "        text-align: right;\n",
       "    }\n",
       "</style>\n",
       "<table border=\"1\" class=\"dataframe\">\n",
       "  <thead>\n",
       "    <tr style=\"text-align: right;\">\n",
       "      <th></th>\n",
       "      <th>Model</th>\n",
       "      <th>Average rewards per move</th>\n",
       "      <th>Average number of penalties per episode</th>\n",
       "      <th>Average number of timesteps per trip</th>\n",
       "    </tr>\n",
       "  </thead>\n",
       "  <tbody>\n",
       "    <tr>\n",
       "      <th>0</th>\n",
       "      <td>Random agent's performance</td>\n",
       "      <td>1.0</td>\n",
       "      <td>0.0</td>\n",
       "      <td>2.2234</td>\n",
       "    </tr>\n",
       "    <tr>\n",
       "      <th>1</th>\n",
       "      <td>Q-learning agent's performance</td>\n",
       "      <td>1.0</td>\n",
       "      <td>0.0</td>\n",
       "      <td>22.2340</td>\n",
       "    </tr>\n",
       "  </tbody>\n",
       "</table>\n",
       "</div>"
      ],
      "text/plain": [
       "                            Model  ...  Average number of timesteps per trip\n",
       "0      Random agent's performance  ...                                2.2234\n",
       "1  Q-learning agent's performance  ...                               22.2340\n",
       "\n",
       "[2 rows x 4 columns]"
      ]
     },
     "execution_count": 48,
     "metadata": {},
     "output_type": "execute_result"
    }
   ],
   "source": [
    "# Comparing the performance of the random agent to the RL-Agent\n",
    "\n",
    "Algorithms"
   ]
  },
  {
   "cell_type": "code",
   "execution_count": 50,
   "metadata": {
    "colab": {
     "base_uri": "https://localhost:8080/",
     "height": 497
    },
    "id": "0SHTRaPq8D7Q",
    "outputId": "912f828d-dfd3-4ce0-e72d-4105a486dfcd"
   },
   "outputs": [
    {
     "data": {
      "image/png": "[encoded data removed]",
      "text/plain": [
       "<Figure size 720x576 with 1 Axes>"
      ]
     },
     "metadata": {
      "needs_background": "light"
     },
     "output_type": "display_data"
    }
   ],
   "source": [
    "plt.figure(figsize=(10,8))\n",
    "\n",
    "sns.barplot(x = 'Model', y = 'Average number of timesteps per trip', data = Algorithms)\n",
    "plt.show()"
   ]
  },
  {
   "cell_type": "code",
   "execution_count": 51,
   "metadata": {
    "colab": {
     "base_uri": "https://localhost:8080/",
     "height": 497
    },
    "id": "DScuC_NmHN2X",
    "outputId": "156dc882-e484-4e3b-8e9b-7e4c95d81c4f"
   },
   "outputs": [
    {
     "data": {
      "image/png": "[encoded data removed]",
      "text/plain": [
       "<Figure size 720x576 with 1 Axes>"
      ]
     },
     "metadata": {
      "needs_background": "light"
     },
     "output_type": "display_data"
    }
   ],
   "source": [
    "plt.figure(figsize=(10,8))\n",
    "\n",
    "sns.barplot(x = 'Model', y = 'Average rewards per move', data = Algorithms)\n",
    "plt.show()"
   ]
  },
  {
   "cell_type": "code",
   "execution_count": 52,
   "metadata": {
    "colab": {
     "base_uri": "https://localhost:8080/",
     "height": 497
    },
    "id": "Pej97jtPHVHU",
    "outputId": "58c40be0-bccd-4805-b3b9-fd8a6cc6ed6a"
   },
   "outputs": [
    {
     "data": {
      "image/png": "[encoded data removed]",
      "text/plain": [
       "<Figure size 720x576 with 1 Axes>"
      ]
     },
     "metadata": {
      "needs_background": "light"
     },
     "output_type": "display_data"
    }
   ],
   "source": [
    "plt.figure(figsize=(10,8))\n",
    "\n",
    "sns.barplot(x = 'Model', y = 'Average number of penalties per episode', data = Algorithms)\n",
    "plt.show()"
   ]
  },
  {
   "cell_type": "markdown",
   "metadata": {
    "id": "v82lKuMVHcrt"
   },
   "source": [
    "#  Part 2 Deep-Q Network Algorithm using Keras RL"
   ]
  },
  {
   "cell_type": "code",
   "execution_count": 53,
   "metadata": {
    "colab": {
     "base_uri": "https://localhost:8080/"
    },
    "id": "-2gFu26YIBJW",
    "outputId": "79c5835d-5f6f-44be-962b-839af2ca057c"
   },
   "outputs": [
    {
     "name": "stdout",
     "output_type": "stream",
     "text": [
      "Requirement already satisfied: gym in /usr/local/lib/python3.7/dist-packages (0.17.3)\n",
      "Collecting keras-rl2\n",
      "  Downloading keras_rl2-1.0.5-py3-none-any.whl (52 kB)\n",
      "\u001b[K     |████████████████████████████████| 52 kB 674 kB/s \n",
      "\u001b[?25hRequirement already satisfied: pyglet<=1.5.0,>=1.4.0 in /usr/local/lib/python3.7/dist-packages (from gym) (1.5.0)\n",
      "Requirement already satisfied: cloudpickle<1.7.0,>=1.2.0 in /usr/local/lib/python3.7/dist-packages (from gym) (1.3.0)\n",
      "Requirement already satisfied: scipy in /usr/local/lib/python3.7/dist-packages (from gym) (1.4.1)\n",
      "Requirement already satisfied: numpy>=1.10.4 in /usr/local/lib/python3.7/dist-packages (from gym) (1.19.5)\n",
      "Requirement already satisfied: future in /usr/local/lib/python3.7/dist-packages (from pyglet<=1.5.0,>=1.4.0->gym) (0.16.0)\n",
      "Requirement already satisfied: tensorflow in /usr/local/lib/python3.7/dist-packages (from keras-rl2) (2.7.0)\n",
      "Requirement already satisfied: protobuf>=3.9.2 in /usr/local/lib/python3.7/dist-packages (from tensorflow->keras-rl2) (3.17.3)\n",
      "Requirement already satisfied: keras<2.8,>=2.7.0rc0 in /usr/local/lib/python3.7/dist-packages (from tensorflow->keras-rl2) (2.7.0)\n",
      "Requirement already satisfied: h5py>=2.9.0 in /usr/local/lib/python3.7/dist-packages (from tensorflow->keras-rl2) (3.1.0)\n",
      "Requirement already satisfied: tensorflow-estimator<2.8,~=2.7.0rc0 in /usr/local/lib/python3.7/dist-packages (from tensorflow->keras-rl2) (2.7.0)\n",
      "Requirement already satisfied: gast<0.5.0,>=0.2.1 in /usr/local/lib/python3.7/dist-packages (from tensorflow->keras-rl2) (0.4.0)\n",
      "Requirement already satisfied: flatbuffers<3.0,>=1.12 in /usr/local/lib/python3.7/dist-packages (from tensorflow->keras-rl2) (2.0)\n",
      "Requirement already satisfied: tensorflow-io-gcs-filesystem>=0.21.0 in /usr/local/lib/python3.7/dist-packages (from tensorflow->keras-rl2) (0.22.0)\n",
      "Requirement already satisfied: wrapt>=1.11.0 in /usr/local/lib/python3.7/dist-packages (from tensorflow->keras-rl2) (1.13.3)\n",
      "Requirement already satisfied: typing-extensions>=3.6.6 in /usr/local/lib/python3.7/dist-packages (from tensorflow->keras-rl2) (3.10.0.2)\n",
      "Requirement already satisfied: google-pasta>=0.1.1 in /usr/local/lib/python3.7/dist-packages (from tensorflow->keras-rl2) (0.2.0)\n",
      "Requirement already satisfied: astunparse>=1.6.0 in /usr/local/lib/python3.7/dist-packages (from tensorflow->keras-rl2) (1.6.3)\n",
      "Requirement already satisfied: libclang>=9.0.1 in /usr/local/lib/python3.7/dist-packages (from tensorflow->keras-rl2) (12.0.0)\n",
      "Requirement already satisfied: opt-einsum>=2.3.2 in /usr/local/lib/python3.7/dist-packages (from tensorflow->keras-rl2) (3.3.0)\n",
      "Requirement already satisfied: grpcio<2.0,>=1.24.3 in /usr/local/lib/python3.7/dist-packages (from tensorflow->keras-rl2) (1.42.0)\n",
      "Requirement already satisfied: absl-py>=0.4.0 in /usr/local/lib/python3.7/dist-packages (from tensorflow->keras-rl2) (0.12.0)\n",
      "Requirement already satisfied: tensorboard~=2.6 in /usr/local/lib/python3.7/dist-packages (from tensorflow->keras-rl2) (2.7.0)\n",
      "Requirement already satisfied: keras-preprocessing>=1.1.1 in /usr/local/lib/python3.7/dist-packages (from tensorflow->keras-rl2) (1.1.2)\n",
      "Requirement already satisfied: six>=1.12.0 in /usr/local/lib/python3.7/dist-packages (from tensorflow->keras-rl2) (1.15.0)\n",
      "Requirement already satisfied: termcolor>=1.1.0 in /usr/local/lib/python3.7/dist-packages (from tensorflow->keras-rl2) (1.1.0)\n",
      "Requirement already satisfied: wheel<1.0,>=0.32.0 in /usr/local/lib/python3.7/dist-packages (from tensorflow->keras-rl2) (0.37.0)\n",
      "Requirement already satisfied: cached-property in /usr/local/lib/python3.7/dist-packages (from h5py>=2.9.0->tensorflow->keras-rl2) (1.5.2)\n",
      "Requirement already satisfied: werkzeug>=0.11.15 in /usr/local/lib/python3.7/dist-packages (from tensorboard~=2.6->tensorflow->keras-rl2) (1.0.1)\n",
      "Requirement already satisfied: requests<3,>=2.21.0 in /usr/local/lib/python3.7/dist-packages (from tensorboard~=2.6->tensorflow->keras-rl2) (2.23.0)\n",
      "Requirement already satisfied: google-auth<3,>=1.6.3 in /usr/local/lib/python3.7/dist-packages (from tensorboard~=2.6->tensorflow->keras-rl2) (1.35.0)\n",
      "Requirement already satisfied: tensorboard-plugin-wit>=1.6.0 in /usr/local/lib/python3.7/dist-packages (from tensorboard~=2.6->tensorflow->keras-rl2) (1.8.0)\n",
      "Requirement already satisfied: tensorboard-data-server<0.7.0,>=0.6.0 in /usr/local/lib/python3.7/dist-packages (from tensorboard~=2.6->tensorflow->keras-rl2) (0.6.1)\n",
      "Requirement already satisfied: markdown>=2.6.8 in /usr/local/lib/python3.7/dist-packages (from tensorboard~=2.6->tensorflow->keras-rl2) (3.3.6)\n",
      "Requirement already satisfied: google-auth-oauthlib<0.5,>=0.4.1 in /usr/local/lib/python3.7/dist-packages (from tensorboard~=2.6->tensorflow->keras-rl2) (0.4.6)\n",
      "Requirement already satisfied: setuptools>=41.0.0 in /usr/local/lib/python3.7/dist-packages (from tensorboard~=2.6->tensorflow->keras-rl2) (57.4.0)\n",
      "Requirement already satisfied: cachetools<5.0,>=2.0.0 in /usr/local/lib/python3.7/dist-packages (from google-auth<3,>=1.6.3->tensorboard~=2.6->tensorflow->keras-rl2) (4.2.4)\n",
      "Requirement already satisfied: pyasn1-modules>=0.2.1 in /usr/local/lib/python3.7/dist-packages (from google-auth<3,>=1.6.3->tensorboard~=2.6->tensorflow->keras-rl2) (0.2.8)\n",
      "Requirement already satisfied: rsa<5,>=3.1.4 in /usr/local/lib/python3.7/dist-packages (from google-auth<3,>=1.6.3->tensorboard~=2.6->tensorflow->keras-rl2) (4.8)\n",
      "Requirement already satisfied: requests-oauthlib>=0.7.0 in /usr/local/lib/python3.7/dist-packages (from google-auth-oauthlib<0.5,>=0.4.1->tensorboard~=2.6->tensorflow->keras-rl2) (1.3.0)\n",
      "Requirement already satisfied: importlib-metadata>=4.4 in /usr/local/lib/python3.7/dist-packages (from markdown>=2.6.8->tensorboard~=2.6->tensorflow->keras-rl2) (4.8.2)\n",
      "Requirement already satisfied: zipp>=0.5 in /usr/local/lib/python3.7/dist-packages (from importlib-metadata>=4.4->markdown>=2.6.8->tensorboard~=2.6->tensorflow->keras-rl2) (3.6.0)\n",
      "Requirement already satisfied: pyasn1<0.5.0,>=0.4.6 in /usr/local/lib/python3.7/dist-packages (from pyasn1-modules>=0.2.1->google-auth<3,>=1.6.3->tensorboard~=2.6->tensorflow->keras-rl2) (0.4.8)\n",
      "Requirement already satisfied: certifi>=2017.4.17 in /usr/local/lib/python3.7/dist-packages (from requests<3,>=2.21.0->tensorboard~=2.6->tensorflow->keras-rl2) (2021.10.8)\n",
      "Requirement already satisfied: chardet<4,>=3.0.2 in /usr/local/lib/python3.7/dist-packages (from requests<3,>=2.21.0->tensorboard~=2.6->tensorflow->keras-rl2) (3.0.4)\n",
      "Requirement already satisfied: urllib3!=1.25.0,!=1.25.1,<1.26,>=1.21.1 in /usr/local/lib/python3.7/dist-packages (from requests<3,>=2.21.0->tensorboard~=2.6->tensorflow->keras-rl2) (1.24.3)\n",
      "Requirement already satisfied: idna<3,>=2.5 in /usr/local/lib/python3.7/dist-packages (from requests<3,>=2.21.0->tensorboard~=2.6->tensorflow->keras-rl2) (2.10)\n",
      "Requirement already satisfied: oauthlib>=3.0.0 in /usr/local/lib/python3.7/dist-packages (from requests-oauthlib>=0.7.0->google-auth-oauthlib<0.5,>=0.4.1->tensorboard~=2.6->tensorflow->keras-rl2) (3.1.1)\n",
      "Installing collected packages: keras-rl2\n",
      "Successfully installed keras-rl2-1.0.5\n"
     ]
    }
   ],
   "source": [
    "!pip install gym keras-rl2"
   ]
  },
  {
   "cell_type": "code",
   "execution_count": 57,
   "metadata": {
    "id": "CF4NA6sXIUWn"
   },
   "outputs": [],
   "source": [
    "!python -m atari_py.import_roms .\n"
   ]
  },
  {
   "cell_type": "code",
   "execution_count": 58,
   "metadata": {
    "colab": {
     "base_uri": "https://localhost:8080/"
    },
    "id": "zAzstD8vJDNo",
    "outputId": "d962700c-5b93-4117-93bd-9effcdab9302"
   },
   "outputs": [
    {
     "name": "stdout",
     "output_type": "stream",
     "text": [
      "Reading package lists...\n",
      "Building dependency tree...\n",
      "Reading state information...\n",
      "x11-utils is already the newest version (7.7+3build1).\n",
      "xvfb is already the newest version (2:1.19.6-1ubuntu4.9).\n",
      "0 upgraded, 0 newly installed, 0 to remove and 37 not upgraded.\n",
      "Reading package lists...\n",
      "Building dependency tree...\n",
      "Reading state information...\n",
      "The following additional packages will be installed:\n",
      "  fonts-droid-fallback fonts-noto-mono ghostscript gsfonts\n",
      "  imagemagick-6-common imagemagick-6.q16 libcupsfilters1 libcupsimage2\n",
      "  libdjvulibre-text libdjvulibre21 libgs9 libgs9-common libijs-0.35\n",
      "  libjbig2dec0 liblqr-1-0 libmagickcore-6.q16-3 libmagickcore-6.q16-3-extra\n",
      "  libmagickwand-6.q16-3 libnetpbm10 libwmf0.2-7 netpbm poppler-data\n",
      "Suggested packages:\n",
      "  fonts-noto ghostscript-x imagemagick-doc autotrace cups-bsd | lpr | lprng\n",
      "  enscript gimp gnuplot grads hp2xx html2ps libwmf-bin mplayer povray radiance\n",
      "  sane-utils texlive-base-bin transfig ufraw-batch inkscape libjxr-tools\n",
      "  libwmf0.2-7-gtk poppler-utils fonts-japanese-mincho | fonts-ipafont-mincho\n",
      "  fonts-japanese-gothic | fonts-ipafont-gothic fonts-arphic-ukai\n",
      "  fonts-arphic-uming fonts-nanum\n",
      "The following NEW packages will be installed:\n",
      "  fonts-droid-fallback fonts-noto-mono ghostscript gsfonts imagemagick\n",
      "  imagemagick-6-common imagemagick-6.q16 libcupsfilters1 libcupsimage2\n",
      "  libdjvulibre-text libdjvulibre21 libgs9 libgs9-common libijs-0.35\n",
      "  libjbig2dec0 liblqr-1-0 libmagickcore-6.q16-3 libmagickcore-6.q16-3-extra\n",
      "  libmagickwand-6.q16-3 libnetpbm10 libwmf0.2-7 netpbm poppler-data\n",
      "0 upgraded, 23 newly installed, 0 to remove and 37 not upgraded.\n",
      "Need to get 18.4 MB of archives.\n",
      "After this operation, 66.3 MB of additional disk space will be used.\n",
      "Get:1 http://archive.ubuntu.com/ubuntu bionic/main amd64 fonts-droid-fallback all 1:6.0.1r16-1.1 [1,805 kB]\n",
      "Get:2 http://archive.ubuntu.com/ubuntu bionic/main amd64 liblqr-1-0 amd64 0.4.2-2.1 [27.7 kB]\n",
      "Ign:3 http://archive.ubuntu.com/ubuntu bionic-updates/main amd64 imagemagick-6-common all 8:6.9.7.4+dfsg-16ubuntu6.11\n",
      "Ign:4 http://archive.ubuntu.com/ubuntu bionic-updates/main amd64 libmagickcore-6.q16-3 amd64 8:6.9.7.4+dfsg-16ubuntu6.11\n",
      "Ign:5 http://archive.ubuntu.com/ubuntu bionic-updates/main amd64 libmagickwand-6.q16-3 amd64 8:6.9.7.4+dfsg-16ubuntu6.11\n",
      "Get:6 http://archive.ubuntu.com/ubuntu bionic/main amd64 poppler-data all 0.4.8-2 [1,479 kB]\n",
      "Get:7 http://archive.ubuntu.com/ubuntu bionic/main amd64 fonts-noto-mono all 20171026-2 [75.5 kB]\n",
      "Get:8 http://archive.ubuntu.com/ubuntu bionic-updates/main amd64 libcupsimage2 amd64 2.2.7-1ubuntu2.8 [18.6 kB]\n",
      "Get:9 http://archive.ubuntu.com/ubuntu bionic/main amd64 libijs-0.35 amd64 0.35-13 [15.5 kB]\n",
      "Get:10 http://archive.ubuntu.com/ubuntu bionic/main amd64 libjbig2dec0 amd64 0.13-6 [55.9 kB]\n",
      "Get:11 http://archive.ubuntu.com/ubuntu bionic-updates/main amd64 libgs9-common all 9.26~dfsg+0-0ubuntu0.18.04.14 [5,092 kB]\n",
      "Err:3 http://security.ubuntu.com/ubuntu bionic-updates/main amd64 imagemagick-6-common all 8:6.9.7.4+dfsg-16ubuntu6.11\n",
      "  404  Not Found [IP: 91.189.88.142 80]\n",
      "Get:12 http://archive.ubuntu.com/ubuntu bionic-updates/main amd64 libgs9 amd64 9.26~dfsg+0-0ubuntu0.18.04.14 [2,265 kB]\n",
      "Err:4 http://security.ubuntu.com/ubuntu bionic-updates/main amd64 libmagickcore-6.q16-3 amd64 8:6.9.7.4+dfsg-16ubuntu6.11\n",
      "  404  Not Found [IP: 91.189.88.142 80]\n",
      "Err:5 http://security.ubuntu.com/ubuntu bionic-updates/main amd64 libmagickwand-6.q16-3 amd64 8:6.9.7.4+dfsg-16ubuntu6.11\n",
      "  404  Not Found [IP: 91.189.88.142 80]\n",
      "Get:13 http://archive.ubuntu.com/ubuntu bionic-updates/main amd64 ghostscript amd64 9.26~dfsg+0-0ubuntu0.18.04.14 [51.3 kB]\n",
      "Get:14 http://archive.ubuntu.com/ubuntu bionic/main amd64 gsfonts all 1:8.11+urwcyr1.0.7~pre44-4.4 [3,120 kB]\n",
      "Ign:15 http://archive.ubuntu.com/ubuntu bionic-updates/main amd64 imagemagick-6.q16 amd64 8:6.9.7.4+dfsg-16ubuntu6.11\n",
      "Ign:16 http://archive.ubuntu.com/ubuntu bionic-updates/main amd64 imagemagick amd64 8:6.9.7.4+dfsg-16ubuntu6.11\n",
      "Get:17 http://archive.ubuntu.com/ubuntu bionic-updates/main amd64 libcupsfilters1 amd64 1.20.2-0ubuntu3.1 [108 kB]\n",
      "Get:18 http://archive.ubuntu.com/ubuntu bionic-updates/main amd64 libdjvulibre-text all 3.5.27.1-8ubuntu0.4 [49.4 kB]\n",
      "Get:19 http://archive.ubuntu.com/ubuntu bionic-updates/main amd64 libdjvulibre21 amd64 3.5.27.1-8ubuntu0.4 [561 kB]\n",
      "Get:20 http://archive.ubuntu.com/ubuntu bionic/main amd64 libwmf0.2-7 amd64 0.2.8.4-12 [150 kB]\n",
      "Ign:21 http://archive.ubuntu.com/ubuntu bionic-updates/main amd64 libmagickcore-6.q16-3-extra amd64 8:6.9.7.4+dfsg-16ubuntu6.11\n",
      "Get:22 http://archive.ubuntu.com/ubuntu bionic/main amd64 libnetpbm10 amd64 2:10.0-15.3build1 [58.0 kB]\n",
      "Get:23 http://archive.ubuntu.com/ubuntu bionic/main amd64 netpbm amd64 2:10.0-15.3build1 [1,017 kB]\n",
      "Err:15 http://security.ubuntu.com/ubuntu bionic-updates/main amd64 imagemagick-6.q16 amd64 8:6.9.7.4+dfsg-16ubuntu6.11\n",
      "  404  Not Found [IP: 91.189.88.142 80]\n",
      "Err:16 http://security.ubuntu.com/ubuntu bionic-updates/main amd64 imagemagick amd64 8:6.9.7.4+dfsg-16ubuntu6.11\n",
      "  404  Not Found [IP: 91.189.88.142 80]\n",
      "Err:21 http://security.ubuntu.com/ubuntu bionic-updates/main amd64 libmagickcore-6.q16-3-extra amd64 8:6.9.7.4+dfsg-16ubuntu6.11\n",
      "  404  Not Found [IP: 91.189.88.142 80]\n",
      "Fetched 15.9 MB in 2s (8,656 kB/s)\n",
      "Requirement already satisfied: gym[box2d]==0.17.* in /usr/local/lib/python3.7/dist-packages (0.17.3)\n",
      "Collecting pyvirtualdisplay==0.2.*\n",
      "  Downloading PyVirtualDisplay-0.2.5-py2.py3-none-any.whl (13 kB)\n",
      "Requirement already satisfied: PyOpenGL==3.1.* in /usr/local/lib/python3.7/dist-packages (3.1.5)\n",
      "Collecting PyOpenGL-accelerate==3.1.*\n",
      "  Downloading PyOpenGL-accelerate-3.1.5.tar.gz (538 kB)\n",
      "Requirement already satisfied: EasyProcess in /usr/local/lib/python3.7/dist-packages (from pyvirtualdisplay==0.2.*) (0.3)\n",
      "Requirement already satisfied: pyglet<=1.5.0,>=1.4.0 in /usr/local/lib/python3.7/dist-packages (from gym[box2d]==0.17.*) (1.5.0)\n",
      "Requirement already satisfied: numpy>=1.10.4 in /usr/local/lib/python3.7/dist-packages (from gym[box2d]==0.17.*) (1.19.5)\n",
      "Requirement already satisfied: cloudpickle<1.7.0,>=1.2.0 in /usr/local/lib/python3.7/dist-packages (from gym[box2d]==0.17.*) (1.3.0)\n",
      "Requirement already satisfied: scipy in /usr/local/lib/python3.7/dist-packages (from gym[box2d]==0.17.*) (1.4.1)\n",
      "Collecting box2d-py~=2.3.5\n",
      "  Downloading box2d_py-2.3.8-cp37-cp37m-manylinux1_x86_64.whl (448 kB)\n",
      "Requirement already satisfied: future in /usr/local/lib/python3.7/dist-packages (from pyglet<=1.5.0,>=1.4.0->gym[box2d]==0.17.*) (0.16.0)\n",
      "Building wheels for collected packages: PyOpenGL-accelerate\n",
      "  Building wheel for PyOpenGL-accelerate (setup.py): started\n",
      "  Building wheel for PyOpenGL-accelerate (setup.py): finished with status 'done'\n",
      "  Created wheel for PyOpenGL-accelerate: filename=PyOpenGL_accelerate-3.1.5-cp37-cp37m-linux_x86_64.whl size=1599448 sha256=0a9d8ab0da26e290ffe46d5ce93db30f3af6a82d126ec11fb60b2facba5d735f\n",
      "  Stored in directory: /root/.cache/pip/wheels/1c/f5/6f/169afb3f2d476c5e807f8515b3c9bc9b819c3962316aa804eb\n",
      "Successfully built PyOpenGL-accelerate\n",
      "Installing collected packages: box2d-py, pyvirtualdisplay, PyOpenGL-accelerate\n",
      "  Attempting uninstall: pyvirtualdisplay\n",
      "    Found existing installation: PyVirtualDisplay 2.2\n",
      "    Uninstalling PyVirtualDisplay-2.2:\n",
      "      Successfully uninstalled PyVirtualDisplay-2.2\n",
      "Successfully installed PyOpenGL-accelerate-3.1.5 box2d-py-2.3.8 pyvirtualdisplay-0.2.5\n"
     ]
    },
    {
     "name": "stderr",
     "output_type": "stream",
     "text": [
      "E: Failed to fetch http://security.ubuntu.com/ubuntu/pool/main/i/imagemagick/imagemagick-6-common_6.9.7.4+dfsg-16ubuntu6.11_all.deb  404  Not Found [IP: 91.189.88.142 80]\n",
      "E: Failed to fetch http://security.ubuntu.com/ubuntu/pool/main/i/imagemagick/libmagickcore-6.q16-3_6.9.7.4+dfsg-16ubuntu6.11_amd64.deb  404  Not Found [IP: 91.189.88.142 80]\n",
      "E: Failed to fetch http://security.ubuntu.com/ubuntu/pool/main/i/imagemagick/libmagickwand-6.q16-3_6.9.7.4+dfsg-16ubuntu6.11_amd64.deb  404  Not Found [IP: 91.189.88.142 80]\n",
      "E: Failed to fetch http://security.ubuntu.com/ubuntu/pool/main/i/imagemagick/imagemagick-6.q16_6.9.7.4+dfsg-16ubuntu6.11_amd64.deb  404  Not Found [IP: 91.189.88.142 80]\n",
      "E: Failed to fetch http://security.ubuntu.com/ubuntu/pool/main/i/imagemagick/imagemagick_6.9.7.4+dfsg-16ubuntu6.11_amd64.deb  404  Not Found [IP: 91.189.88.142 80]\n",
      "E: Failed to fetch http://security.ubuntu.com/ubuntu/pool/main/i/imagemagick/libmagickcore-6.q16-3-extra_6.9.7.4+dfsg-16ubuntu6.11_amd64.deb  404  Not Found [IP: 91.189.88.142 80]\n",
      "E: Unable to fetch some archives, maybe run apt-get update or try with --fix-missing?\n"
     ]
    }
   ],
   "source": [
    "%%bash\n",
    "\n",
    "# install required system dependencies\n",
    "apt-get install -y xvfb x11-utils\n",
    "apt-get install imagemagick\n",
    "\n",
    "# install required python dependencies (might need to install additional gym extras depending)\n",
    "pip install gym[box2d]==0.17.* pyvirtualdisplay==0.2.* PyOpenGL==3.1.* PyOpenGL-accelerate==3.1.*"
   ]
  },
  {
   "cell_type": "code",
   "execution_count": 16,
   "metadata": {
    "id": "op5s1jgIJZNx"
   },
   "outputs": [],
   "source": [
    "# Importing extra libraries\n",
    "\n",
    "import pyvirtualdisplay\n",
    "\n",
    "_display = pyvirtualdisplay.Display(visible=False, size=(1400, 900)) # use False with Xvfb \n",
    "_ = _display.start()\n",
    "\n",
    "import gym\n",
    "from gym import wrappers\n",
    "import numpy as np\n",
    "import random\n",
    "import math\n",
    "import base64\n",
    "import matplotlib\n",
    "import matplotlib.pyplot as plt\n",
    "%matplotlib inline\n",
    "\n",
    "from IPython.display import HTML\n",
    "from IPython import display\n",
    "from matplotlib import animation\n",
    "from PIL import Image\n",
    "\n",
    "import tensorflow as tf\n",
    "from tensorflow import keras\n",
    "from tensorflow.keras.models import Sequential\n",
    "from tensorflow.keras.layers import Dense, Flatten, Convolution2D\n",
    "from tensorflow.keras.optimizers import Adam\n",
    "\n",
    "from rl.agents import DQNAgent\n",
    "from rl.memory import SequentialMemory\n",
    "from rl.policy import LinearAnnealedPolicy, EpsGreedyQPolicy\n",
    "\n",
    "import os\n",
    "import io"
   ]
  },
  {
   "cell_type": "code",
   "execution_count": 30,
   "metadata": {
    "id": "UtGuthMtJfQ3"
   },
   "outputs": [],
   "source": [
    "env.reset()\n",
    "total_epochs = []\n",
    "total_penalties = []\n",
    "total_reward = []\n",
    "frames = []\n",
    "\n",
    "for episode in range(5):\n",
    "    state = env.reset()\n",
    "    step = 0\n",
    "    done = False\n",
    "    epochs, penalties, reward = 0,0,0\n",
    "\n",
    "    while not done:\n",
    "        #env.render()\n",
    "        action = env.action_space.sample()\n",
    "\n",
    "        new_state, reward, done, info = env.step(action)\n",
    "\n",
    "        if reward == -10:\n",
    "            penalties += 1\n",
    "\n",
    "        epochs += 1\n",
    "\n",
    "        total_reward.append(reward)\n",
    "\n",
    "        frames.append({'episode': episode, 'frames': env.render(mode='rgb_array'), 'state': state, 'action': action, 'reward': reward})\n",
    "\n",
    "        state = new_state\n",
    "    total_penalties.append(penalties)\n",
    "    total_epochs.append(epochs)"
   ]
  },
  {
   "cell_type": "code",
   "execution_count": 31,
   "metadata": {
    "colab": {
     "base_uri": "https://localhost:8080/",
     "height": 269
    },
    "id": "t4JbmUiDKLUz",
    "outputId": "a422ad5f-2c5c-4c1c-cc8e-c6a18c12a14a"
   },
   "outputs": [
    {
     "data": {
      "image/png": "[encoded data removed]",
      "text/plain": [
       "<Figure size 432x288 with 1 Axes>"
      ]
     },
     "metadata": {
      "needs_background": "light"
     },
     "output_type": "display_data"
    }
   ],
   "source": [
    "from IPython.display import clear_output\n",
    "from time import sleep\n",
    "img = plt.imshow(env.render(mode='rgb_array'))\n",
    "\n",
    "def print_frames(frames):\n",
    "    for i, frame in enumerate(frames):\n",
    "        img.set_data(frame['frames']) # just update the data\n",
    "\n",
    "        display.display(plt.gcf())\n",
    "        \n",
    "        if i == 100:\n",
    "            break\n",
    "\n",
    "        print(f\"Episode: {frame['episode']}\")\n",
    "        #print(frame['frames'])\n",
    "        print(f\"Timestep: {i + 1}\")\n",
    "        #print(f\"State: {frame['state']}\")\n",
    "        print(f\"Action: {frame['action']}\")\n",
    "        print(f\"Reward: {frame['reward']}\")\n",
    "        sleep(.5)\n",
    "        \n",
    "        clear_output(wait=True)\n",
    "        \n",
    "        \n",
    "        \n",
    "print_frames(frames)"
   ]
  },
  {
   "cell_type": "code",
   "execution_count": 43,
   "metadata": {
    "colab": {
     "base_uri": "https://localhost:8080/"
    },
    "id": "V35tJbiLU8Ag",
    "outputId": "c51e8530-8939-4f5d-c40d-1ce4dff1c686"
   },
   "outputs": [
    {
     "name": "stdout",
     "output_type": "stream",
     "text": [
      "[10, 11, 12, 13, 14, 15, 16, 17, 18, 19, 20, 21, 22, 23, 24, 25, 26, 27, 28, 29, 30, 31, 32, 33, 34, 35, 36, 37, 38, 39, 40, 41, 42, 43, 44, 45, 46, 47, 48, 49, 50, 51, 52, 53, 54, 55, 56, 57, 58, 59, 60, 61, 62, 63, 64, 65, 66, 67, 68, 69, 70, 71, 72, 73, 74, 75, 76, 77, 78, 79, 80, 81, 82, 83, 84, 85, 86, 87, 88, 89, 90, 91, 92, 93, 94, 95, 96, 97, 98, 99, 100, 101, 102, 103, 104, 105, 106, 107, 108, 109]\n"
     ]
    }
   ],
   "source": [
    "# Side Track: Vectorization\n",
    "    \n",
    "tmp_array = []\n",
    "for i in range(100):\n",
    "    tmp_array.append(i)\n",
    "    \n",
    "#Add 10 to each element\n",
    "for i in range(100):\n",
    "    tmp_array[i] += 10\n",
    "print(tmp_array)"
   ]
  },
  {
   "cell_type": "code",
   "execution_count": 44,
   "metadata": {
    "colab": {
     "base_uri": "https://localhost:8080/"
    },
    "id": "Pgfd0mbRVATH",
    "outputId": "4fc0b6e9-4863-47db-c207-e201779fb08a"
   },
   "outputs": [
    {
     "name": "stdout",
     "output_type": "stream",
     "text": [
      "[ 10  11  12  13  14  15  16  17  18  19  20  21  22  23  24  25  26  27\n",
      "  28  29  30  31  32  33  34  35  36  37  38  39  40  41  42  43  44  45\n",
      "  46  47  48  49  50  51  52  53  54  55  56  57  58  59  60  61  62  63\n",
      "  64  65  66  67  68  69  70  71  72  73  74  75  76  77  78  79  80  81\n",
      "  82  83  84  85  86  87  88  89  90  91  92  93  94  95  96  97  98  99\n",
      " 100 101 102 103 104 105 106 107 108 109]\n"
     ]
    }
   ],
   "source": [
    "tmp_array = []\n",
    "for i in range(100):\n",
    "    tmp_array.append(i)\n",
    "    \n",
    "#Add 10 to each element\n",
    "tmp_array = np.array(tmp_array) + 10\n",
    "print(tmp_array)"
   ]
  },
  {
   "cell_type": "code",
   "execution_count": 45,
   "metadata": {
    "id": "HBlmIeUEVFi5"
   },
   "outputs": [],
   "source": [
    "# Global Variables\n",
    "\n",
    "EPISODES = 500\n",
    "TRAIN_END = 0"
   ]
  },
  {
   "cell_type": "code",
   "execution_count": 46,
   "metadata": {
    "id": "4b5sGirbVQS1"
   },
   "outputs": [],
   "source": [
    "# Hyper Parameters\n",
    "\n",
    "# Gamma\n",
    "\n",
    "def discount_rate(): \n",
    "    return 0.95\n",
    "\n",
    "# Alpha\n",
    "\n",
    "def learning_rate(): \n",
    "    return 0.001\n",
    "\n",
    "#Size of the batch used in the experience replay\n",
    "\n",
    "def batch_size(): \n",
    "    return 24"
   ]
  },
  {
   "cell_type": "code",
   "execution_count": 47,
   "metadata": {
    "id": "tSh4aREjVXIN"
   },
   "outputs": [],
   "source": [
    "class DeepQNetwork():\n",
    "    def __init__(self, states, actions, alpha, gamma, epsilon,epsilon_min, epsilon_decay):\n",
    "        self.nS = states\n",
    "        self.nA = actions\n",
    "        self.memory = deque([], maxlen=2500)\n",
    "        self.alpha = alpha\n",
    "        self.gamma = gamma\n",
    "        \n",
    "        #Explore/Exploit\n",
    "        \n",
    "        self.epsilon = epsilon\n",
    "        self.epsilon_min = epsilon_min\n",
    "        self.epsilon_decay = epsilon_decay\n",
    "        self.model = self.build_model()\n",
    "        self.loss = []\n",
    "        \n",
    "    def build_model(self):\n",
    "        model = keras.Sequential() #linear stack of layers https://keras.io/models/sequential/\n",
    "        model.add(keras.layers.Dense(24, input_dim=self.nS, activation='relu')) #[Input] -> Layer 1\n",
    "        #   Dense: Densely connected layer https://keras.io/layers/core/\n",
    "        #   24: Number of neurons\n",
    "        #   input_dim: Number of input variables\n",
    "        #   activation: Rectified Linear Unit (relu) ranges >= 0\n",
    "        model.add(keras.layers.Dense(24, activation='relu')) #Layer 2 -> 3\n",
    "        model.add(keras.layers.Dense(self.nA, activation='linear')) #Layer 3 -> [output]\n",
    "        #   Size has to match the output (different actions)\n",
    "        #   Linear activation on the last layer\n",
    "        model.compile(loss='mean_squared_error', #Loss function: Mean Squared Error\n",
    "                      optimizer=keras.optimizers.Adam(lr=self.alpha)) #Optimaizer: Adam (Feel free to check other options)\n",
    "        return model\n",
    "\n",
    "    def action(self, state):\n",
    "        if np.random.rand() <= self.epsilon:\n",
    "            return random.randrange(self.nA) #Explore\n",
    "        action_vals = self.model.predict(state) #Exploit: Use the NN to predict the correct action from this state\n",
    "        return np.argmax(action_vals[0])\n",
    "\n",
    "    def test_action(self, state): #Exploit\n",
    "        action_vals = self.model.predict(state)\n",
    "        return np.argmax(action_vals[0])\n",
    "\n",
    "    def store(self, state, action, reward, nstate, done):\n",
    "        #Store the experience in memory\n",
    "        self.memory.append( (state, action, reward, nstate, done) )\n",
    "\n",
    "    def experience_replay(self, batch_size):\n",
    "        #Execute the experience replay\n",
    "        minibatch = random.sample( self.memory, batch_size ) #Randomly sample from memory\n",
    "\n",
    "        # Converting to numpy for speed by vectorization\n",
    "        \n",
    "        x = []\n",
    "        y = []\n",
    "        np_array = np.array(minibatch)\n",
    "        st = np.zeros((0,self.nS)) #States\n",
    "        nst = np.zeros( (0,self.nS) )#Next States\n",
    "        for i in range(len(np_array)): #Creating the state and next state np arrays\n",
    "            st = np.append( st, np_array[i,0], axis=0)\n",
    "            nst = np.append( nst, np_array[i,3], axis=0)\n",
    "        st_predict = self.model.predict(st) #Here is the speedup! I can predict on the ENTIRE batch\n",
    "        nst_predict = self.model.predict(nst)\n",
    "        index = 0\n",
    "        for state, action, reward, nstate, done in minibatch:\n",
    "            x.append(state)\n",
    "            \n",
    "            #Predicting from state\n",
    "            \n",
    "            nst_action_predict_model = nst_predict[index]\n",
    "            if done == True: #Terminal: Just assign reward much like {* (not done) - QB[state][action]}\n",
    "                target = reward\n",
    "            else:   #Non terminal\n",
    "                target = reward + self.gamma * np.amax(nst_action_predict_model)\n",
    "            target_f = st_predict[index]\n",
    "            target_f[action] = target\n",
    "            y.append(target_f)\n",
    "            index += 1\n",
    "            \n",
    "        #Reshape for Keras Fit\n",
    "        x_reshape = np.array(x).reshape(batch_size,self.nS)\n",
    "        y_reshape = np.array(y)\n",
    "        epoch_count = 1 #Epochs is the number or iterations\n",
    "        hist = self.model.fit(x_reshape, y_reshape, epochs=epoch_count, verbose=0)\n",
    "        \n",
    "        #Graph Losses\n",
    "        \n",
    "        for i in range(epoch_count):\n",
    "            self.loss.append( hist.history['loss'][i] )\n",
    "            \n",
    "        #Decay Epsilon\n",
    "        \n",
    "        if self.epsilon > self.epsilon_min:\n",
    "            self.epsilon *= self.epsilon_decay"
   ]
  },
  {
   "cell_type": "code",
   "execution_count": 49,
   "metadata": {
    "colab": {
     "base_uri": "https://localhost:8080/"
    },
    "id": "L9xPBmOUVh_F",
    "outputId": "e9289c53-4691-4dd2-b3ae-7fc86a3c4792"
   },
   "outputs": [
    {
     "name": "stderr",
     "output_type": "stream",
     "text": [
      "/usr/local/lib/python3.7/dist-packages/keras/optimizer_v2/adam.py:105: UserWarning: The `lr` argument is deprecated, use `learning_rate` instead.\n",
      "  super(Adam, self).__init__(name, **kwargs)\n"
     ]
    }
   ],
   "source": [
    "# Creating the agent\n",
    "\n",
    "nS = env.observation_space.shape[0] #This is only 4\n",
    "nA = env.action_space.n #Actions\n",
    "dqn = DeepQNetwork(nS, nA, learning_rate(), discount_rate(), 1, 0.001, 0.995 )\n",
    "\n",
    "batch_size = batch_size()"
   ]
  },
  {
   "cell_type": "code",
   "execution_count": 50,
   "metadata": {
    "colab": {
     "base_uri": "https://localhost:8080/"
    },
    "id": "kqDxwfQVVpgV",
    "outputId": "31e797b3-8876-4424-9de3-c308811d5bca"
   },
   "outputs": [
    {
     "name": "stdout",
     "output_type": "stream",
     "text": [
      "episode: 0/500, score: 11.0, e: 1\n",
      "episode: 1/500, score: 13.0, e: 1\n"
     ]
    },
    {
     "name": "stderr",
     "output_type": "stream",
     "text": [
      "/usr/local/lib/python3.7/dist-packages/ipykernel_launcher.py:51: VisibleDeprecationWarning: Creating an ndarray from ragged nested sequences (which is a list-or-tuple of lists-or-tuples-or ndarrays with different lengths or shapes) is deprecated. If you meant to do this, you must specify 'dtype=object' when creating the ndarray\n",
      "/usr/local/lib/python3.7/dist-packages/keras/engine/training_v1.py:2079: UserWarning: `Model.state_updates` will be removed in a future version. This property should not be used in TensorFlow 2.0, as `updates` are applied automatically.\n",
      "  updates=self.state_updates,\n"
     ]
    },
    {
     "name": "stdout",
     "output_type": "stream",
     "text": [
      "episode: 2/500, score: 15.0, e: 0.9322301194154049\n",
      "episode: 3/500, score: 65.0, e: 0.6763948591909945\n",
      "episode: 4/500, score: 23.0, e: 0.6057704364907278\n",
      "episode: 5/500, score: 13.0, e: 0.5704072587541458\n",
      "episode: 6/500, score: 22.0, e: 0.5134164023722473\n",
      "episode: 7/500, score: 15.0, e: 0.47862223409330756\n",
      "episode: 8/500, score: 11.0, e: 0.45522245551230495\n",
      "episode: 9/500, score: 12.0, e: 0.43080185560799106\n",
      "episode: 10/500, score: 19.0, e: 0.3936343764094253\n",
      "episode: 11/500, score: 9.0, e: 0.37816180712868996\n",
      "episode: 12/500, score: 15.0, e: 0.35253382661792404\n",
      "episode: 13/500, score: 11.0, e: 0.3352984938281715\n",
      "episode: 14/500, score: 10.0, e: 0.32050833588933575\n",
      "episode: 15/500, score: 13.0, e: 0.3017979588795719\n",
      "episode: 16/500, score: 10.0, e: 0.2884855236625661\n",
      "episode: 17/500, score: 12.0, e: 0.2730095965279488\n",
      "episode: 18/500, score: 11.0, e: 0.25966219297210513\n",
      "episode: 19/500, score: 11.0, e: 0.24696734223472733\n",
      "episode: 20/500, score: 9.0, e: 0.23725980767521673\n",
      "episode: 21/500, score: 14.0, e: 0.22229219984074702\n",
      "episode: 22/500, score: 10.0, e: 0.21248679717794605\n",
      "episode: 23/500, score: 10.0, e: 0.2031139149609751\n",
      "episode: 24/500, score: 12.0, e: 0.192217783647157\n",
      "episode: 25/500, score: 11.0, e: 0.182820281282489\n",
      "episode: 26/500, score: 13.0, e: 0.17214774642209296\n",
      "episode: 27/500, score: 16.0, e: 0.15967890763313974\n",
      "episode: 28/500, score: 15.0, e: 0.14885748713096328\n",
      "episode: 29/500, score: 15.0, e: 0.138769433003975\n",
      "episode: 30/500, score: 16.0, e: 0.12871821987500112\n",
      "episode: 31/500, score: 15.0, e: 0.11999500148501063\n",
      "episode: 32/500, score: 11.0, e: 0.11412846151764894\n",
      "episode: 33/500, score: 12.0, e: 0.10800599224428936\n",
      "episode: 34/500, score: 17.0, e: 0.0996820918179746\n",
      "episode: 35/500, score: 17.0, e: 0.09199970504166631\n",
      "episode: 36/500, score: 22.0, e: 0.08280777787605056\n",
      "episode: 37/500, score: 136.0, e: 0.04209078556329156\n",
      "episode: 38/500, score: 22.0, e: 0.0378853869148274\n",
      "episode: 39/500, score: 19.0, e: 0.03461682084029365\n",
      "episode: 40/500, score: 28.0, e: 0.030235026982422884\n",
      "episode: 41/500, score: 15.0, e: 0.028186002814352063\n",
      "episode: 42/500, score: 16.0, e: 0.026144461565619025\n",
      "episode: 43/500, score: 32.0, e: 0.022381810029994047\n",
      "episode: 44/500, score: 19.0, e: 0.020450816818411825\n",
      "episode: 45/500, score: 21.0, e: 0.018500023224111744\n",
      "episode: 46/500, score: 22.0, e: 0.016651638319386028\n",
      "episode: 47/500, score: 70.0, e: 0.011782828070678488\n",
      "episode: 48/500, score: 25.0, e: 0.010447285872500434\n",
      "episode: 49/500, score: 16.0, e: 0.009690578183705511\n",
      "episode: 50/500, score: 20.0, e: 0.00881024983407093\n",
      "episode: 51/500, score: 21.0, e: 0.007969844333738273\n",
      "episode: 52/500, score: 15.0, e: 0.007429728934963016\n",
      "episode: 53/500, score: 16.0, e: 0.006891586006803337\n",
      "episode: 54/500, score: 16.0, e: 0.006392421325853387\n",
      "episode: 55/500, score: 14.0, e: 0.005989153463270236\n",
      "episode: 56/500, score: 14.0, e: 0.005611325877649847\n",
      "episode: 57/500, score: 10.0, e: 0.005363807927213575\n",
      "episode: 58/500, score: 13.0, e: 0.005050683876172427\n",
      "episode: 59/500, score: 17.0, e: 0.004661433346674369\n",
      "episode: 60/500, score: 16.0, e: 0.00432380092259011\n",
      "episode: 61/500, score: 13.0, e: 0.004071389561268267\n",
      "episode: 62/500, score: 18.0, e: 0.003738824083198702\n",
      "episode: 63/500, score: 14.0, e: 0.0035029592176417258\n",
      "episode: 64/500, score: 21.0, e: 0.00316881362025328\n",
      "episode: 65/500, score: 17.0, e: 0.002924596716205228\n",
      "episode: 66/500, score: 26.0, e: 0.0025801384254978423\n",
      "episode: 67/500, score: 32.0, e: 0.0022088107626787677\n",
      "episode: 68/500, score: 20.0, e: 0.0020081541355402863\n",
      "episode: 69/500, score: 29.0, e: 0.001745192367007887\n",
      "episode: 70/500, score: 78.0, e: 0.0011863710003452248\n",
      "episode: 71/500, score: 20.0, e: 0.0010785966235237919\n",
      "episode: 72/500, score: 31.0, e: 0.0009954703940636294\n",
      "episode: 73/500, score: 37.0, e: 0.0009954703940636294\n",
      "episode: 74/500, score: 21.0, e: 0.0009954703940636294\n",
      "episode: 75/500, score: 81.0, e: 0.0009954703940636294\n",
      "episode: 76/500, score: 27.0, e: 0.0009954703940636294\n",
      "episode: 77/500, score: 28.0, e: 0.0009954703940636294\n",
      "episode: 78/500, score: 73.0, e: 0.0009954703940636294\n",
      "episode: 79/500, score: 57.0, e: 0.0009954703940636294\n",
      "episode: 80/500, score: 25.0, e: 0.0009954703940636294\n",
      "episode: 81/500, score: 44.0, e: 0.0009954703940636294\n",
      "episode: 82/500, score: 46.0, e: 0.0009954703940636294\n",
      "episode: 83/500, score: 26.0, e: 0.0009954703940636294\n",
      "episode: 84/500, score: 50.0, e: 0.0009954703940636294\n",
      "episode: 85/500, score: 50.0, e: 0.0009954703940636294\n",
      "episode: 86/500, score: 48.0, e: 0.0009954703940636294\n",
      "episode: 87/500, score: 36.0, e: 0.0009954703940636294\n",
      "episode: 88/500, score: 28.0, e: 0.0009954703940636294\n",
      "episode: 89/500, score: 32.0, e: 0.0009954703940636294\n",
      "episode: 90/500, score: 50.0, e: 0.0009954703940636294\n",
      "episode: 91/500, score: 86.0, e: 0.0009954703940636294\n",
      "episode: 92/500, score: 60.0, e: 0.0009954703940636294\n",
      "episode: 93/500, score: 40.0, e: 0.0009954703940636294\n",
      "episode: 94/500, score: 55.0, e: 0.0009954703940636294\n",
      "episode: 95/500, score: 68.0, e: 0.0009954703940636294\n",
      "episode: 96/500, score: 95.0, e: 0.0009954703940636294\n",
      "episode: 97/500, score: 86.0, e: 0.0009954703940636294\n",
      "episode: 98/500, score: 65.0, e: 0.0009954703940636294\n",
      "episode: 99/500, score: 86.0, e: 0.0009954703940636294\n",
      "episode: 100/500, score: 183.0, e: 0.0009954703940636294\n",
      "episode: 101/500, score: 163.0, e: 0.0009954703940636294\n",
      "episode: 102/500, score: 148.0, e: 0.0009954703940636294\n",
      "episode: 103/500, score: 135.0, e: 0.0009954703940636294\n",
      "episode: 104/500, score: 157.0, e: 0.0009954703940636294\n",
      "episode: 105/500, score: 200.0, e: 0.0009954703940636294\n",
      "episode: 106/500, score: 200.0, e: 0.0009954703940636294\n",
      "episode: 107/500, score: 200.0, e: 0.0009954703940636294\n",
      "episode: 108/500, score: 200.0, e: 0.0009954703940636294\n",
      "episode: 109/500, score: 199.0, e: 0.0009954703940636294\n"
     ]
    }
   ],
   "source": [
    "# Training\n",
    "\n",
    "# Storing rewards for graphing\n",
    "\n",
    "rewards = [] \n",
    "\n",
    "# Storing the Explore/Exploit\n",
    "\n",
    "epsilons = [] \n",
    "TEST_Episodes = 0\n",
    "for e in range(EPISODES):\n",
    "    state = env.reset()\n",
    "    state = np.reshape(state, [1, nS]) \n",
    "    \n",
    "    # Resize to store in memory to pass to .predict\n",
    "    tot_rewards = 0\n",
    "    for time in range(210): #200 is when you \"solve\" the game. This can continue forever as far as I know\n",
    "        action = dqn.action(state)\n",
    "        nstate, reward, done, _ = env.step(action)\n",
    "        nstate = np.reshape(nstate, [1, nS])\n",
    "        tot_rewards += reward\n",
    "        dqn.store(state, action, reward, nstate, done) # Resize to store in memory to pass to .predict\n",
    "        state = nstate\n",
    "        #done: CartPole fell. \n",
    "        #time == 209: CartPole stayed upright\n",
    "        if done or time == 209:\n",
    "            rewards.append(tot_rewards)\n",
    "            epsilons.append(dqn.epsilon)\n",
    "            print(\"episode: {}/{}, score: {}, e: {}\"\n",
    "                  .format(e, EPISODES, tot_rewards, dqn.epsilon))\n",
    "            break\n",
    "        #Experience Replay\n",
    "        if len(dqn.memory) > batch_size:\n",
    "            dqn.experience_replay(batch_size)\n",
    "    #If our current NN passes we are done\n",
    "    #I am going to use the last 5 runs\n",
    "    if len(rewards) > 5 and np.average(rewards[-5:]) > 195:\n",
    "        #Set the rest of the EPISODES for testing\n",
    "        TEST_Episodes = EPISODES - e\n",
    "        TRAIN_END = e\n",
    "        break"
   ]
  },
  {
   "cell_type": "code",
   "execution_count": 52,
   "metadata": {
    "colab": {
     "base_uri": "https://localhost:8080/"
    },
    "id": "BS1w61ntV8i7",
    "outputId": "fe911aa2-2ef2-48b7-a50b-cd2091f1f556"
   },
   "outputs": [
    {
     "name": "stdout",
     "output_type": "stream",
     "text": [
      "episode: 0/391, score: 200.0, e: 0\n",
      "episode: 1/391, score: 200.0, e: 0\n",
      "episode: 2/391, score: 183.0, e: 0\n",
      "episode: 3/391, score: 177.0, e: 0\n",
      "episode: 4/391, score: 200.0, e: 0\n",
      "episode: 5/391, score: 200.0, e: 0\n",
      "episode: 6/391, score: 185.0, e: 0\n",
      "episode: 7/391, score: 200.0, e: 0\n",
      "episode: 8/391, score: 200.0, e: 0\n",
      "episode: 9/391, score: 200.0, e: 0\n",
      "episode: 10/391, score: 200.0, e: 0\n",
      "episode: 11/391, score: 200.0, e: 0\n",
      "episode: 12/391, score: 200.0, e: 0\n",
      "episode: 13/391, score: 200.0, e: 0\n",
      "episode: 14/391, score: 160.0, e: 0\n",
      "episode: 15/391, score: 200.0, e: 0\n",
      "episode: 16/391, score: 193.0, e: 0\n",
      "episode: 17/391, score: 200.0, e: 0\n",
      "episode: 18/391, score: 200.0, e: 0\n",
      "episode: 19/391, score: 200.0, e: 0\n",
      "episode: 20/391, score: 200.0, e: 0\n",
      "episode: 21/391, score: 200.0, e: 0\n",
      "episode: 22/391, score: 174.0, e: 0\n",
      "episode: 23/391, score: 200.0, e: 0\n",
      "episode: 24/391, score: 189.0, e: 0\n",
      "episode: 25/391, score: 200.0, e: 0\n",
      "episode: 26/391, score: 200.0, e: 0\n",
      "episode: 27/391, score: 200.0, e: 0\n",
      "episode: 28/391, score: 200.0, e: 0\n",
      "episode: 29/391, score: 181.0, e: 0\n",
      "episode: 30/391, score: 191.0, e: 0\n",
      "episode: 31/391, score: 193.0, e: 0\n",
      "episode: 32/391, score: 200.0, e: 0\n",
      "episode: 33/391, score: 200.0, e: 0\n",
      "episode: 34/391, score: 200.0, e: 0\n",
      "episode: 35/391, score: 163.0, e: 0\n",
      "episode: 36/391, score: 200.0, e: 0\n",
      "episode: 37/391, score: 198.0, e: 0\n",
      "episode: 38/391, score: 187.0, e: 0\n",
      "episode: 39/391, score: 184.0, e: 0\n",
      "episode: 40/391, score: 200.0, e: 0\n",
      "episode: 41/391, score: 200.0, e: 0\n",
      "episode: 42/391, score: 200.0, e: 0\n",
      "episode: 43/391, score: 200.0, e: 0\n",
      "episode: 44/391, score: 177.0, e: 0\n",
      "episode: 45/391, score: 200.0, e: 0\n",
      "episode: 46/391, score: 200.0, e: 0\n",
      "episode: 47/391, score: 200.0, e: 0\n",
      "episode: 48/391, score: 200.0, e: 0\n",
      "episode: 49/391, score: 200.0, e: 0\n",
      "episode: 50/391, score: 200.0, e: 0\n",
      "episode: 51/391, score: 200.0, e: 0\n",
      "episode: 52/391, score: 200.0, e: 0\n",
      "episode: 53/391, score: 200.0, e: 0\n",
      "episode: 54/391, score: 200.0, e: 0\n",
      "episode: 55/391, score: 200.0, e: 0\n",
      "episode: 56/391, score: 200.0, e: 0\n",
      "episode: 57/391, score: 200.0, e: 0\n",
      "episode: 58/391, score: 200.0, e: 0\n",
      "episode: 59/391, score: 185.0, e: 0\n",
      "episode: 60/391, score: 200.0, e: 0\n",
      "episode: 61/391, score: 200.0, e: 0\n",
      "episode: 62/391, score: 194.0, e: 0\n",
      "episode: 63/391, score: 200.0, e: 0\n",
      "episode: 64/391, score: 200.0, e: 0\n",
      "episode: 65/391, score: 200.0, e: 0\n",
      "episode: 66/391, score: 187.0, e: 0\n",
      "episode: 67/391, score: 199.0, e: 0\n",
      "episode: 68/391, score: 200.0, e: 0\n",
      "episode: 69/391, score: 200.0, e: 0\n",
      "episode: 70/391, score: 200.0, e: 0\n",
      "episode: 71/391, score: 200.0, e: 0\n",
      "episode: 72/391, score: 173.0, e: 0\n",
      "episode: 73/391, score: 200.0, e: 0\n",
      "episode: 74/391, score: 179.0, e: 0\n",
      "episode: 75/391, score: 200.0, e: 0\n",
      "episode: 76/391, score: 200.0, e: 0\n",
      "episode: 77/391, score: 200.0, e: 0\n",
      "episode: 78/391, score: 200.0, e: 0\n",
      "episode: 79/391, score: 200.0, e: 0\n",
      "episode: 80/391, score: 200.0, e: 0\n",
      "episode: 81/391, score: 195.0, e: 0\n",
      "episode: 82/391, score: 200.0, e: 0\n",
      "episode: 83/391, score: 200.0, e: 0\n",
      "episode: 84/391, score: 200.0, e: 0\n",
      "episode: 85/391, score: 200.0, e: 0\n",
      "episode: 86/391, score: 200.0, e: 0\n",
      "episode: 87/391, score: 200.0, e: 0\n",
      "episode: 88/391, score: 200.0, e: 0\n",
      "episode: 89/391, score: 193.0, e: 0\n",
      "episode: 90/391, score: 200.0, e: 0\n",
      "episode: 91/391, score: 200.0, e: 0\n",
      "episode: 92/391, score: 200.0, e: 0\n",
      "episode: 93/391, score: 200.0, e: 0\n",
      "episode: 94/391, score: 200.0, e: 0\n",
      "episode: 95/391, score: 200.0, e: 0\n",
      "episode: 96/391, score: 200.0, e: 0\n",
      "episode: 97/391, score: 200.0, e: 0\n",
      "episode: 98/391, score: 200.0, e: 0\n",
      "episode: 99/391, score: 161.0, e: 0\n",
      "episode: 100/391, score: 200.0, e: 0\n",
      "episode: 101/391, score: 185.0, e: 0\n",
      "episode: 102/391, score: 200.0, e: 0\n",
      "episode: 103/391, score: 200.0, e: 0\n",
      "episode: 104/391, score: 181.0, e: 0\n",
      "episode: 105/391, score: 200.0, e: 0\n",
      "episode: 106/391, score: 183.0, e: 0\n",
      "episode: 107/391, score: 200.0, e: 0\n",
      "episode: 108/391, score: 181.0, e: 0\n",
      "episode: 109/391, score: 161.0, e: 0\n",
      "episode: 110/391, score: 200.0, e: 0\n",
      "episode: 111/391, score: 183.0, e: 0\n",
      "episode: 112/391, score: 185.0, e: 0\n",
      "episode: 113/391, score: 200.0, e: 0\n",
      "episode: 114/391, score: 200.0, e: 0\n",
      "episode: 115/391, score: 183.0, e: 0\n",
      "episode: 116/391, score: 200.0, e: 0\n",
      "episode: 117/391, score: 200.0, e: 0\n",
      "episode: 118/391, score: 159.0, e: 0\n",
      "episode: 119/391, score: 200.0, e: 0\n",
      "episode: 120/391, score: 200.0, e: 0\n",
      "episode: 121/391, score: 200.0, e: 0\n",
      "episode: 122/391, score: 200.0, e: 0\n",
      "episode: 123/391, score: 187.0, e: 0\n",
      "episode: 124/391, score: 200.0, e: 0\n",
      "episode: 125/391, score: 200.0, e: 0\n",
      "episode: 126/391, score: 200.0, e: 0\n",
      "episode: 127/391, score: 169.0, e: 0\n",
      "episode: 128/391, score: 200.0, e: 0\n",
      "episode: 129/391, score: 200.0, e: 0\n",
      "episode: 130/391, score: 200.0, e: 0\n",
      "episode: 131/391, score: 200.0, e: 0\n",
      "episode: 132/391, score: 200.0, e: 0\n",
      "episode: 133/391, score: 200.0, e: 0\n",
      "episode: 134/391, score: 183.0, e: 0\n",
      "episode: 135/391, score: 200.0, e: 0\n",
      "episode: 136/391, score: 200.0, e: 0\n",
      "episode: 137/391, score: 200.0, e: 0\n",
      "episode: 138/391, score: 191.0, e: 0\n",
      "episode: 139/391, score: 200.0, e: 0\n",
      "episode: 140/391, score: 191.0, e: 0\n",
      "episode: 141/391, score: 200.0, e: 0\n",
      "episode: 142/391, score: 200.0, e: 0\n",
      "episode: 143/391, score: 200.0, e: 0\n",
      "episode: 144/391, score: 200.0, e: 0\n",
      "episode: 145/391, score: 200.0, e: 0\n",
      "episode: 146/391, score: 200.0, e: 0\n",
      "episode: 147/391, score: 200.0, e: 0\n",
      "episode: 148/391, score: 200.0, e: 0\n",
      "episode: 149/391, score: 183.0, e: 0\n",
      "episode: 150/391, score: 200.0, e: 0\n",
      "episode: 151/391, score: 200.0, e: 0\n",
      "episode: 152/391, score: 200.0, e: 0\n",
      "episode: 153/391, score: 200.0, e: 0\n",
      "episode: 154/391, score: 200.0, e: 0\n",
      "episode: 155/391, score: 200.0, e: 0\n",
      "episode: 156/391, score: 200.0, e: 0\n",
      "episode: 157/391, score: 200.0, e: 0\n",
      "episode: 158/391, score: 200.0, e: 0\n",
      "episode: 159/391, score: 200.0, e: 0\n",
      "episode: 160/391, score: 200.0, e: 0\n",
      "episode: 161/391, score: 200.0, e: 0\n",
      "episode: 162/391, score: 200.0, e: 0\n",
      "episode: 163/391, score: 200.0, e: 0\n",
      "episode: 164/391, score: 200.0, e: 0\n",
      "episode: 165/391, score: 200.0, e: 0\n",
      "episode: 166/391, score: 200.0, e: 0\n",
      "episode: 167/391, score: 200.0, e: 0\n",
      "episode: 168/391, score: 200.0, e: 0\n",
      "episode: 169/391, score: 200.0, e: 0\n",
      "episode: 170/391, score: 200.0, e: 0\n",
      "episode: 171/391, score: 200.0, e: 0\n",
      "episode: 172/391, score: 179.0, e: 0\n",
      "episode: 173/391, score: 200.0, e: 0\n",
      "episode: 174/391, score: 200.0, e: 0\n",
      "episode: 175/391, score: 200.0, e: 0\n",
      "episode: 176/391, score: 200.0, e: 0\n",
      "episode: 177/391, score: 200.0, e: 0\n",
      "episode: 178/391, score: 198.0, e: 0\n",
      "episode: 179/391, score: 200.0, e: 0\n",
      "episode: 180/391, score: 179.0, e: 0\n",
      "episode: 181/391, score: 200.0, e: 0\n",
      "episode: 182/391, score: 200.0, e: 0\n",
      "episode: 183/391, score: 200.0, e: 0\n",
      "episode: 184/391, score: 200.0, e: 0\n",
      "episode: 185/391, score: 191.0, e: 0\n",
      "episode: 186/391, score: 200.0, e: 0\n",
      "episode: 187/391, score: 200.0, e: 0\n",
      "episode: 188/391, score: 198.0, e: 0\n",
      "episode: 189/391, score: 200.0, e: 0\n",
      "episode: 190/391, score: 200.0, e: 0\n",
      "episode: 191/391, score: 200.0, e: 0\n",
      "episode: 192/391, score: 200.0, e: 0\n",
      "episode: 193/391, score: 200.0, e: 0\n",
      "episode: 194/391, score: 189.0, e: 0\n",
      "episode: 195/391, score: 175.0, e: 0\n",
      "episode: 196/391, score: 179.0, e: 0\n",
      "episode: 197/391, score: 200.0, e: 0\n",
      "episode: 198/391, score: 200.0, e: 0\n",
      "episode: 199/391, score: 200.0, e: 0\n",
      "episode: 200/391, score: 200.0, e: 0\n",
      "episode: 201/391, score: 200.0, e: 0\n",
      "episode: 202/391, score: 200.0, e: 0\n",
      "episode: 203/391, score: 200.0, e: 0\n",
      "episode: 204/391, score: 200.0, e: 0\n",
      "episode: 205/391, score: 200.0, e: 0\n",
      "episode: 206/391, score: 200.0, e: 0\n",
      "episode: 207/391, score: 200.0, e: 0\n",
      "episode: 208/391, score: 200.0, e: 0\n",
      "episode: 209/391, score: 200.0, e: 0\n",
      "episode: 210/391, score: 200.0, e: 0\n",
      "episode: 211/391, score: 200.0, e: 0\n",
      "episode: 212/391, score: 181.0, e: 0\n",
      "episode: 213/391, score: 200.0, e: 0\n",
      "episode: 214/391, score: 200.0, e: 0\n",
      "episode: 215/391, score: 200.0, e: 0\n",
      "episode: 216/391, score: 200.0, e: 0\n",
      "episode: 217/391, score: 167.0, e: 0\n",
      "episode: 218/391, score: 200.0, e: 0\n",
      "episode: 219/391, score: 200.0, e: 0\n",
      "episode: 220/391, score: 200.0, e: 0\n",
      "episode: 221/391, score: 177.0, e: 0\n",
      "episode: 222/391, score: 200.0, e: 0\n",
      "episode: 223/391, score: 200.0, e: 0\n",
      "episode: 224/391, score: 200.0, e: 0\n",
      "episode: 225/391, score: 200.0, e: 0\n",
      "episode: 226/391, score: 200.0, e: 0\n",
      "episode: 227/391, score: 200.0, e: 0\n",
      "episode: 228/391, score: 163.0, e: 0\n",
      "episode: 229/391, score: 200.0, e: 0\n",
      "episode: 230/391, score: 183.0, e: 0\n",
      "episode: 231/391, score: 200.0, e: 0\n",
      "episode: 232/391, score: 200.0, e: 0\n",
      "episode: 233/391, score: 200.0, e: 0\n",
      "episode: 234/391, score: 174.0, e: 0\n",
      "episode: 235/391, score: 173.0, e: 0\n",
      "episode: 236/391, score: 200.0, e: 0\n",
      "episode: 237/391, score: 200.0, e: 0\n",
      "episode: 238/391, score: 200.0, e: 0\n",
      "episode: 239/391, score: 200.0, e: 0\n",
      "episode: 240/391, score: 200.0, e: 0\n",
      "episode: 241/391, score: 200.0, e: 0\n",
      "episode: 242/391, score: 199.0, e: 0\n",
      "episode: 243/391, score: 193.0, e: 0\n",
      "episode: 244/391, score: 200.0, e: 0\n",
      "episode: 245/391, score: 197.0, e: 0\n",
      "episode: 246/391, score: 200.0, e: 0\n",
      "episode: 247/391, score: 200.0, e: 0\n",
      "episode: 248/391, score: 183.0, e: 0\n",
      "episode: 249/391, score: 200.0, e: 0\n",
      "episode: 250/391, score: 200.0, e: 0\n",
      "episode: 251/391, score: 200.0, e: 0\n",
      "episode: 252/391, score: 200.0, e: 0\n",
      "episode: 253/391, score: 200.0, e: 0\n",
      "episode: 254/391, score: 200.0, e: 0\n",
      "episode: 255/391, score: 200.0, e: 0\n",
      "episode: 256/391, score: 200.0, e: 0\n",
      "episode: 257/391, score: 168.0, e: 0\n",
      "episode: 258/391, score: 200.0, e: 0\n",
      "episode: 259/391, score: 200.0, e: 0\n",
      "episode: 260/391, score: 200.0, e: 0\n",
      "episode: 261/391, score: 200.0, e: 0\n",
      "episode: 262/391, score: 200.0, e: 0\n",
      "episode: 263/391, score: 200.0, e: 0\n",
      "episode: 264/391, score: 200.0, e: 0\n",
      "episode: 265/391, score: 200.0, e: 0\n",
      "episode: 266/391, score: 200.0, e: 0\n",
      "episode: 267/391, score: 200.0, e: 0\n",
      "episode: 268/391, score: 200.0, e: 0\n",
      "episode: 269/391, score: 200.0, e: 0\n",
      "episode: 270/391, score: 177.0, e: 0\n",
      "episode: 271/391, score: 200.0, e: 0\n",
      "episode: 272/391, score: 200.0, e: 0\n",
      "episode: 273/391, score: 200.0, e: 0\n",
      "episode: 274/391, score: 189.0, e: 0\n",
      "episode: 275/391, score: 200.0, e: 0\n",
      "episode: 276/391, score: 200.0, e: 0\n",
      "episode: 277/391, score: 174.0, e: 0\n",
      "episode: 278/391, score: 200.0, e: 0\n",
      "episode: 279/391, score: 171.0, e: 0\n",
      "episode: 280/391, score: 200.0, e: 0\n",
      "episode: 281/391, score: 193.0, e: 0\n",
      "episode: 282/391, score: 193.0, e: 0\n",
      "episode: 283/391, score: 200.0, e: 0\n",
      "episode: 284/391, score: 200.0, e: 0\n",
      "episode: 285/391, score: 200.0, e: 0\n",
      "episode: 286/391, score: 161.0, e: 0\n",
      "episode: 287/391, score: 200.0, e: 0\n",
      "episode: 288/391, score: 175.0, e: 0\n",
      "episode: 289/391, score: 200.0, e: 0\n",
      "episode: 290/391, score: 200.0, e: 0\n",
      "episode: 291/391, score: 200.0, e: 0\n",
      "episode: 292/391, score: 191.0, e: 0\n",
      "episode: 293/391, score: 200.0, e: 0\n",
      "episode: 294/391, score: 200.0, e: 0\n",
      "episode: 295/391, score: 200.0, e: 0\n",
      "episode: 296/391, score: 200.0, e: 0\n",
      "episode: 297/391, score: 200.0, e: 0\n",
      "episode: 298/391, score: 200.0, e: 0\n",
      "episode: 299/391, score: 200.0, e: 0\n",
      "episode: 300/391, score: 200.0, e: 0\n",
      "episode: 301/391, score: 195.0, e: 0\n",
      "episode: 302/391, score: 200.0, e: 0\n",
      "episode: 303/391, score: 200.0, e: 0\n",
      "episode: 304/391, score: 200.0, e: 0\n",
      "episode: 305/391, score: 200.0, e: 0\n",
      "episode: 306/391, score: 200.0, e: 0\n",
      "episode: 307/391, score: 200.0, e: 0\n",
      "episode: 308/391, score: 169.0, e: 0\n",
      "episode: 309/391, score: 179.0, e: 0\n",
      "episode: 310/391, score: 200.0, e: 0\n",
      "episode: 311/391, score: 200.0, e: 0\n",
      "episode: 312/391, score: 200.0, e: 0\n",
      "episode: 313/391, score: 200.0, e: 0\n",
      "episode: 314/391, score: 200.0, e: 0\n",
      "episode: 315/391, score: 200.0, e: 0\n",
      "episode: 316/391, score: 159.0, e: 0\n",
      "episode: 317/391, score: 200.0, e: 0\n",
      "episode: 318/391, score: 200.0, e: 0\n",
      "episode: 319/391, score: 195.0, e: 0\n",
      "episode: 320/391, score: 167.0, e: 0\n",
      "episode: 321/391, score: 200.0, e: 0\n",
      "episode: 322/391, score: 200.0, e: 0\n",
      "episode: 323/391, score: 195.0, e: 0\n",
      "episode: 324/391, score: 200.0, e: 0\n",
      "episode: 325/391, score: 200.0, e: 0\n",
      "episode: 326/391, score: 200.0, e: 0\n",
      "episode: 327/391, score: 200.0, e: 0\n",
      "episode: 328/391, score: 200.0, e: 0\n",
      "episode: 329/391, score: 200.0, e: 0\n",
      "episode: 330/391, score: 200.0, e: 0\n",
      "episode: 331/391, score: 200.0, e: 0\n",
      "episode: 332/391, score: 200.0, e: 0\n",
      "episode: 333/391, score: 200.0, e: 0\n",
      "episode: 334/391, score: 200.0, e: 0\n",
      "episode: 335/391, score: 200.0, e: 0\n",
      "episode: 336/391, score: 200.0, e: 0\n",
      "episode: 337/391, score: 200.0, e: 0\n",
      "episode: 338/391, score: 200.0, e: 0\n",
      "episode: 339/391, score: 200.0, e: 0\n",
      "episode: 340/391, score: 200.0, e: 0\n",
      "episode: 341/391, score: 200.0, e: 0\n",
      "episode: 342/391, score: 200.0, e: 0\n",
      "episode: 343/391, score: 200.0, e: 0\n",
      "episode: 344/391, score: 200.0, e: 0\n",
      "episode: 345/391, score: 200.0, e: 0\n",
      "episode: 346/391, score: 200.0, e: 0\n",
      "episode: 347/391, score: 200.0, e: 0\n",
      "episode: 348/391, score: 200.0, e: 0\n",
      "episode: 349/391, score: 199.0, e: 0\n",
      "episode: 350/391, score: 200.0, e: 0\n",
      "episode: 351/391, score: 200.0, e: 0\n",
      "episode: 352/391, score: 175.0, e: 0\n",
      "episode: 353/391, score: 200.0, e: 0\n",
      "episode: 354/391, score: 200.0, e: 0\n",
      "episode: 355/391, score: 200.0, e: 0\n",
      "episode: 356/391, score: 200.0, e: 0\n",
      "episode: 357/391, score: 200.0, e: 0\n",
      "episode: 358/391, score: 200.0, e: 0\n",
      "episode: 359/391, score: 200.0, e: 0\n",
      "episode: 360/391, score: 200.0, e: 0\n",
      "episode: 361/391, score: 190.0, e: 0\n",
      "episode: 362/391, score: 176.0, e: 0\n",
      "episode: 363/391, score: 200.0, e: 0\n",
      "episode: 364/391, score: 200.0, e: 0\n",
      "episode: 365/391, score: 200.0, e: 0\n",
      "episode: 366/391, score: 200.0, e: 0\n",
      "episode: 367/391, score: 200.0, e: 0\n",
      "episode: 368/391, score: 200.0, e: 0\n",
      "episode: 369/391, score: 200.0, e: 0\n",
      "episode: 370/391, score: 200.0, e: 0\n",
      "episode: 371/391, score: 200.0, e: 0\n",
      "episode: 372/391, score: 175.0, e: 0\n",
      "episode: 373/391, score: 183.0, e: 0\n",
      "episode: 374/391, score: 200.0, e: 0\n",
      "episode: 375/391, score: 200.0, e: 0\n",
      "episode: 376/391, score: 200.0, e: 0\n",
      "episode: 377/391, score: 200.0, e: 0\n",
      "episode: 378/391, score: 200.0, e: 0\n",
      "episode: 379/391, score: 200.0, e: 0\n",
      "episode: 380/391, score: 189.0, e: 0\n",
      "episode: 381/391, score: 200.0, e: 0\n",
      "episode: 382/391, score: 200.0, e: 0\n",
      "episode: 383/391, score: 200.0, e: 0\n",
      "episode: 384/391, score: 200.0, e: 0\n",
      "episode: 385/391, score: 189.0, e: 0\n",
      "episode: 386/391, score: 172.0, e: 0\n",
      "episode: 387/391, score: 200.0, e: 0\n",
      "episode: 388/391, score: 200.0, e: 0\n",
      "episode: 389/391, score: 200.0, e: 0\n",
      "episode: 390/391, score: 200.0, e: 0\n"
     ]
    }
   ],
   "source": [
    "#Testing the agent that already trained \n",
    "\n",
    "#   In this section we ALWAYS use exploit and don't train any more\n",
    "\n",
    "for e_test in range(TEST_Episodes):\n",
    "    state = env.reset()\n",
    "    state = np.reshape(state, [1, nS])\n",
    "    tot_rewards = 0\n",
    "    for t_test in range(210):\n",
    "        action = dqn.test_action(state)\n",
    "        nstate, reward, done, _ = env.step(action)\n",
    "        nstate = np.reshape( nstate, [1, nS])\n",
    "        tot_rewards += reward\n",
    "        \n",
    "        #DON'T STORE ANYTHING DURING TESTING\n",
    "        \n",
    "        state = nstate\n",
    "        \n",
    "        #done: CartPole fell. \n",
    "        #t_test == 209: CartPole stayed upright\n",
    "        if done or t_test == 209: \n",
    "            rewards.append(tot_rewards)\n",
    "            epsilons.append(0) #We are doing full exploit\n",
    "            print(\"episode: {}/{}, score: {}, e: {}\"\n",
    "                  .format(e_test, TEST_Episodes, tot_rewards, 0))\n",
    "            break;"
   ]
  },
  {
   "cell_type": "code",
   "execution_count": null,
   "metadata": {
    "colab": {
     "base_uri": "https://localhost:8080/",
     "height": 265
    },
    "id": "ogZjcNDQWefi",
    "outputId": "0b891ed1-b915-481e-ea66-50122d54c5d8"
   },
   "outputs": [
    {
     "data": {
      "image/png": "[encoded data removed]",
      "text/plain": [
       "<Figure size 432x288 with 1 Axes>"
      ]
     },
     "metadata": {
      "needs_background": "light"
     },
     "output_type": "display_data"
    }
   ],
   "source": [
    "rolling_average = np.convolve(rewards, np.ones(100)/100)\n",
    "\n",
    "plt.plot(rewards)\n",
    "plt.plot(rolling_average, color='black')\n",
    "plt.axhline(y=195, color='r', linestyle='-') \n",
    "\n",
    "#Scale Epsilon to match reward (0 - 200) range\n",
    "\n",
    "eps_graph = [200*x for x in epsilons]\n",
    "plt.plot(eps_graph, color='g', linestyle='-')\n",
    "\n",
    "#Plot the line where TESTING begins\n",
    "\n",
    "plt.axvline(x=TRAIN_END, color='y', linestyle='-')\n",
    "plt.xlim( (0,EPISODES) )\n",
    "plt.ylim( (0,220) )\n",
    "plt.show()\n",
    "\n",
    "\n",
    "env.close()"
   ]
  },
  {
   "cell_type": "markdown",
   "metadata": {
    "id": "NWCxbhb3WknP"
   },
   "source": [
    "# Results\n",
    "\n",
    "If everything was done correctly we should see the rewards () over the red line.  \n",
    "\n",
    "Black is the 100 episode rolling average  \n",
    "Red is the \"solved\" line at 195  \n",
    "Blue is the reward for each episode  \n",
    "Green is the value of epsilon scaled by 200  \n",
    "Yellow is where the tests started.\n"
   ]
  },
  {
   "cell_type": "markdown",
   "metadata": {
    "id": "34Up0t2AWuhr"
   },
   "source": [
    "# References\n",
    "\n",
    "- Lecture Notes\n",
    "- Google collab research community\n",
    "\n"
   ]
  }
 ],
 "metadata": {
  "colab": {
   "name": "Reinforcement_project2.ipynb",
   "provenance": []
  },
  "kernelspec": {
   "display_name": "Python 3",
   "language": "python",
   "name": "python3"
  },
  "language_info": {
   "codemirror_mode": {
    "name": "ipython",
    "version": 3
   },
   "file_extension": ".py",
   "mimetype": "text/x-python",
   "name": "python",
   "nbconvert_exporter": "python",
   "pygments_lexer": "ipython3",
   "version": "3.8.8"
  }
 },
 "nbformat": 4,
 "nbformat_minor": 1
}
